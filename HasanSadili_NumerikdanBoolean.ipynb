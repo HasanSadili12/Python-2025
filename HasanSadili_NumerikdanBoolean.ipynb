{
 "cells": [
  {
   "cell_type": "markdown",
   "id": "0afd14c9-0d60-4718-8a4a-f32e98840ca0",
   "metadata": {},
   "source": []
  },
  {
   "cell_type": "code",
   "execution_count": 1,
   "id": "af4beb36-459c-41fb-aac3-f658b94c5dfc",
   "metadata": {},
   "outputs": [
    {
     "name": "stdout",
     "output_type": "stream",
     "text": [
      "<class 'int'>\n",
      "<class 'int'>\n",
      "<class 'int'>\n"
     ]
    }
   ],
   "source": [
    "#type NUmerik\n",
    "#type integer\n",
    "a= 1\n",
    "b = -17\n",
    "c = 100\n",
    "print (type(a))\n",
    "print(type(b))\n",
    "print(type(c))"
   ]
  },
  {
   "cell_type": "code",
   "execution_count": 2,
   "id": "19f72cba-05dd-4a31-a4bd-26cdeb64ef5e",
   "metadata": {},
   "outputs": [
    {
     "name": "stdout",
     "output_type": "stream",
     "text": [
      "<class 'float'>\n",
      "<class 'float'>\n",
      "<class 'float'>\n"
     ]
    }
   ],
   "source": [
    "#type float\n",
    "x = 3.14\n",
    "y = -0.175\n",
    "z = 2.05\n",
    "print(type(x))\n",
    "print(type(y))\n",
    "print(type(z))"
   ]
  },
  {
   "cell_type": "code",
   "execution_count": 3,
   "id": "8cb8cf8b-912f-45f3-90be-57cfaf863ad7",
   "metadata": {},
   "outputs": [
    {
     "name": "stdout",
     "output_type": "stream",
     "text": [
      "<class 'complex'>\n",
      "<class 'complex'>\n",
      "3.0\n",
      "2.0\n"
     ]
    }
   ],
   "source": [
    "#type complex\n",
    "s1 = 3 + 2j\n",
    "s2 = -2.5j\n",
    "print(type(s1))\n",
    "print(type(s2))\n",
    "print (s1.real) #menampilkan bilangan real\n",
    "print(s1.imag) #menampilkan bilangan imajiner"
   ]
  },
  {
   "cell_type": "code",
   "execution_count": 5,
   "id": "b3597947-99ce-4a56-a1e1-e04e80785548",
   "metadata": {},
   "outputs": [
    {
     "name": "stdout",
     "output_type": "stream",
     "text": [
      "3\n",
      "-17.0\n",
      "(-0.175+0j)\n"
     ]
    }
   ],
   "source": [
    "#konversi tipe data numerik\n",
    "#konversi ke integer\n",
    "x = int(3.14)\n",
    "print(x)\n",
    "#konversi ke float\n",
    "b = float (-17)\n",
    "print(b)\n",
    "#konversi ke complex\n",
    "y = complex (-0.175)\n",
    "print (y)"
   ]
  },
  {
   "cell_type": "code",
   "execution_count": 6,
   "id": "a94d6ed4-b3ef-40d9-8e2b-7253b9202c77",
   "metadata": {},
   "outputs": [
    {
     "name": "stdout",
     "output_type": "stream",
     "text": [
      "21\n",
      "9\n",
      "90\n",
      "2.5\n",
      "2\n",
      "3\n",
      "11390625\n"
     ]
    }
   ],
   "source": [
    "#Operasi Aritmatika\n",
    "a = 15\n",
    "b = 6\n",
    "print(a+b) #penjumlahan \n",
    "print(a-b) #pengurangan\n",
    "print(a * b) #perkalian\n",
    "print (a/b) #pembagian\n",
    "print(a // b) #untuk pembagian bilangan bulat\n",
    "print ( a % b) #modulus\n",
    "print (a ** b) #eksponen"
   ]
  },
  {
   "cell_type": "raw",
   "id": "4d0de24e-1a72-43c0-8fef-14c90495f019",
   "metadata": {},
   "source": [
    "#Modul math\n",
    "import math\n",
    "a = 4\n",
    "b = 2\n",
    "c = 0\n",
    "print(math.sqrt(a)) #akar variabel a = 4\n",
    "print (math.pi*(b)) #perkalian variabel b = 2 dengan pi = 3.14\n",
    "print (math.cos(cos)) #cosinus variabel c = 0"
   ]
  },
  {
   "cell_type": "code",
   "execution_count": 7,
   "id": "064656cd-bb6c-43fe-8ce3-7483ddbb5783",
   "metadata": {},
   "outputs": [
    {
     "name": "stdout",
     "output_type": "stream",
     "text": [
      "2.0\n",
      "6.283185307179586\n"
     ]
    },
    {
     "ename": "NameError",
     "evalue": "name 'cos' is not defined",
     "output_type": "error",
     "traceback": [
      "\u001b[1;31m---------------------------------------------------------------------------\u001b[0m",
      "\u001b[1;31mNameError\u001b[0m                                 Traceback (most recent call last)",
      "Cell \u001b[1;32mIn[7], line 8\u001b[0m\n\u001b[0;32m      6\u001b[0m \u001b[38;5;28mprint\u001b[39m(math\u001b[38;5;241m.\u001b[39msqrt(a)) \u001b[38;5;66;03m#akar variabel a = 4\u001b[39;00m\n\u001b[0;32m      7\u001b[0m \u001b[38;5;28mprint\u001b[39m (math\u001b[38;5;241m.\u001b[39mpi\u001b[38;5;241m*\u001b[39m(b)) \u001b[38;5;66;03m#perkalian variabel b = 2 dengan pi = 3.14\u001b[39;00m\n\u001b[1;32m----> 8\u001b[0m \u001b[38;5;28mprint\u001b[39m (math\u001b[38;5;241m.\u001b[39mcos(\u001b[43mcos\u001b[49m)) \u001b[38;5;66;03m#cosinus variabel c = 0\u001b[39;00m\n",
      "\u001b[1;31mNameError\u001b[0m: name 'cos' is not defined"
     ]
    }
   ],
   "source": [
    "#Modul math\n",
    "import math\n",
    "a = 4\n",
    "b = 2\n",
    "c = 0\n",
    "print(math.sqrt(a)) #akar variabel a = 4\n",
    "print (math.pi*(b)) #perkalian variabel b = 2 dengan pi = 3.14\n",
    "print (math.cos(cos)) #cosinus variabel c = 0"
   ]
  },
  {
   "cell_type": "code",
   "execution_count": 8,
   "id": "838be715-c42e-48f5-9bb4-7ee4bfa2aa06",
   "metadata": {},
   "outputs": [
    {
     "name": "stdout",
     "output_type": "stream",
     "text": [
      "2.0\n",
      "6.283185307179586\n",
      "1.0\n"
     ]
    }
   ],
   "source": [
    "#Modul math\n",
    "import math\n",
    "a = 4\n",
    "b = 2\n",
    "c = 0\n",
    "print(math.sqrt(a)) #akar variabel a = 4\n",
    "print (math.pi*(b)) #perkalian variabel b = 2 dengan pi = 3.14\n",
    "print (math.cos(c)) #cosinus variabel c = 0"
   ]
  },
  {
   "cell_type": "code",
   "execution_count": 9,
   "id": "b88373b0-ffbf-41e9-bf33-330b8d1f3de1",
   "metadata": {},
   "outputs": [
    {
     "name": "stdout",
     "output_type": "stream",
     "text": [
      "(1.600485180440241+1.2496210676876531j)\n",
      "(22.979085577886128+14.744805188558727j)\n"
     ]
    }
   ],
   "source": [
    "#modul cmath\n",
    "import cmath\n",
    "z = 1 +4j\n",
    "print (cmath.sqrt(z)) #akar variabel z\n",
    "print(cmath.sin(z)) #sinus variabel z"
   ]
  },
  {
   "cell_type": "code",
   "execution_count": 10,
   "id": "3d0d22fe-f598-422b-99fc-c97933db5ebc",
   "metadata": {},
   "outputs": [
    {
     "name": "stdout",
     "output_type": "stream",
     "text": [
      "<class 'bool'>\n",
      "<class 'bool'>\n"
     ]
    }
   ],
   "source": [
    "#Type Boolean\n",
    "\n",
    "#Type Boolean (Bool)\n",
    "t= True\n",
    "f = False\n",
    "print(type(t))\n",
    "print (type(f))"
   ]
  },
  {
   "cell_type": "code",
   "execution_count": 11,
   "id": "8848bcdb-2785-48dd-afa1-c565570c1da0",
   "metadata": {},
   "outputs": [
    {
     "name": "stdout",
     "output_type": "stream",
     "text": [
      "False\n",
      "True\n",
      "False\n",
      "True\n",
      "True\n",
      "False\n"
     ]
    }
   ],
   "source": [
    "#Operasi Type Boolean\n",
    "t = True\n",
    "f = False\n",
    "print(t and f)\n",
    "print( t and t)\n",
    "print(f and f)\n",
    "print( t or f)\n",
    "print( t or t)\n",
    "print (f or f)\n"
   ]
  },
  {
   "cell_type": "code",
   "execution_count": null,
   "id": "7210aa9f-d204-4734-acca-b8bc07d4389a",
   "metadata": {},
   "outputs": [],
   "source": []
  }
 ],
 "metadata": {
  "kernelspec": {
   "display_name": "Python 3 (ipykernel)",
   "language": "python",
   "name": "python3"
  },
  "language_info": {
   "codemirror_mode": {
    "name": "ipython",
    "version": 3
   },
   "file_extension": ".py",
   "mimetype": "text/x-python",
   "name": "python",
   "nbconvert_exporter": "python",
   "pygments_lexer": "ipython3",
   "version": "3.11.5"
  }
 },
 "nbformat": 4,
 "nbformat_minor": 5
}
