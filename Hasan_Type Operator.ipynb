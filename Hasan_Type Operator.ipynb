{
 "cells": [
  {
   "cell_type": "code",
   "execution_count": 1,
   "id": "6c1e47e8-871d-4430-82f6-b52ccbb46140",
   "metadata": {},
   "outputs": [
    {
     "name": "stdout",
     "output_type": "stream",
     "text": [
      "5\n"
     ]
    }
   ],
   "source": [
    "#Operator Penugasan\n",
    "#mengggunakan tanda operasi / operator sama dengan (=)\n",
    "#contoh\n",
    "a=5\n",
    "print(a)\n"
   ]
  },
  {
   "cell_type": "code",
   "execution_count": 4,
   "id": "543e3b08-91b6-439c-95ec-35a490fb00f3",
   "metadata": {},
   "outputs": [
    {
     "name": "stdout",
     "output_type": "stream",
     "text": [
      "13\n"
     ]
    }
   ],
   "source": [
    "#contoh\n",
    "a= 5\n",
    "a= a + 8 # a baru = a lama + 8\n",
    "print(a)"
   ]
  },
  {
   "cell_type": "code",
   "execution_count": 6,
   "id": "0518ea72-8afc-4b77-8ae7-0867f9dc6d3b",
   "metadata": {},
   "outputs": [
    {
     "name": "stdout",
     "output_type": "stream",
     "text": [
      "13\n"
     ]
    }
   ],
   "source": [
    "#merubah kode operasi penjumlahab\n",
    "#contoh\n",
    "a = 5 \n",
    "a += 8 #a baru = a lama + 8\n",
    "print (a)"
   ]
  },
  {
   "cell_type": "code",
   "execution_count": 7,
   "id": "40131ae8-7340-4216-a455-1af7008ac2ce",
   "metadata": {},
   "outputs": [
    {
     "name": "stdout",
     "output_type": "stream",
     "text": [
      "30\n"
     ]
    }
   ],
   "source": [
    "#operasi perkalian\n",
    "b = 10\n",
    "b *= 3\n",
    "print (b)"
   ]
  },
  {
   "cell_type": "code",
   "execution_count": 8,
   "id": "ff4a1b2c-e70b-4274-a07e-d157da8ce81c",
   "metadata": {},
   "outputs": [
    {
     "name": "stdout",
     "output_type": "stream",
     "text": [
      "4\n",
      "4.285714285714286\n"
     ]
    }
   ],
   "source": [
    "#operasi pembagian bilangan bulat (//=)\n",
    "b = 30\n",
    "b //=7\n",
    "print (b)\n",
    "print (30/7)"
   ]
  },
  {
   "cell_type": "code",
   "execution_count": 9,
   "id": "c315ffff-1d5b-4e09-a996-4e50f286454c",
   "metadata": {},
   "outputs": [
    {
     "name": "stdout",
     "output_type": "stream",
     "text": [
      "4.285714285714286\n",
      "4.285714285714286\n"
     ]
    }
   ],
   "source": [
    "#operasi pembagian bilangan riil (/=)\n",
    "b = 30.0\n",
    "b /= 7\n",
    "print(b)\n",
    "print(30/7)"
   ]
  },
  {
   "cell_type": "code",
   "execution_count": 10,
   "id": "d89ba1bf-4fa1-421f-b391-e081eccc473b",
   "metadata": {},
   "outputs": [
    {
     "name": "stdout",
     "output_type": "stream",
     "text": [
      "2\n"
     ]
    }
   ],
   "source": [
    "#operasi pencarfian sisa bagi (%=)\n",
    "b = 30\n",
    "b %= 7\n",
    "print(b)"
   ]
  },
  {
   "cell_type": "code",
   "execution_count": 15,
   "id": "337cdf95-0b7b-4f4e-8c22-5d9c8c0e7f35",
   "metadata": {},
   "outputs": [
    {
     "name": "stdout",
     "output_type": "stream",
     "text": [
      " x = 8\n",
      " y = 3\n",
      "x + y 11\n",
      "x - y 5\n",
      "x * y 24\n",
      "x / y 2.6666666666666665\n",
      "x // y 2\n",
      "x % y 2\n",
      "x ** y 512\n"
     ]
    }
   ],
   "source": [
    "#operator aritmatika\n",
    "#contoh program\n",
    "def main ():\n",
    "    #mendefinisikan variabel x dan y\n",
    "    x = 8\n",
    "    y = 3\n",
    "    #menampilkan nilai x dan y\n",
    "    print (' x =' , x)\n",
    "    print  (' y =', y)\n",
    "    #melalkukan perhitungan terhadap x dan y\n",
    "    print ('x + y', (x + y ))\n",
    "    print ( 'x - y', (x - y ))\n",
    "    print ('x * y', (x * y ))\n",
    "    print ('x / y', (x / y ))\n",
    "    print ('x // y', (x // y ))\n",
    "    print ('x % y', (x % y ))\n",
    "    print ('x ** y', (x ** y ))\n",
    "if __name__ == '__main__' :\n",
    "    main ()"
   ]
  },
  {
   "cell_type": "code",
   "execution_count": 17,
   "id": "72401b34-9567-437f-81c6-496d6bc93464",
   "metadata": {},
   "outputs": [
    {
     "name": "stdout",
     "output_type": "stream",
     "text": [
      "x = 8\n",
      " y = 5\n",
      "[2, 4, 8, 16, 32]\n",
      "x == y False\n",
      "x != y True\n",
      "x > y True\n",
      "x >= y True\n",
      "x < y False\n",
      "x <= y False\n",
      "x in li True\n",
      "y in li False\n"
     ]
    }
   ],
   "source": [
    "#operator relasional\n",
    "#contoh program\n",
    "def main ():\n",
    "    #mendefinisikan variabel x dan y\n",
    "    #dan li (bertipe list)\n",
    "    x = 8\n",
    "    y = 5\n",
    "    li = [2, 4, 8, 16, 32]\n",
    "    # menampilkan nilai x dan y\n",
    "    print ( 'x =', x)\n",
    "    print ( ' y =', y)\n",
    "    print(li)\n",
    "    #melakukan pemeriksaann terhadap x dam y\n",
    "    print ('x == y', (x == y))\n",
    "    print ('x != y', (x != y))\n",
    "    print ('x > y', (x > y))\n",
    "    print ('x >= y', (x >= y))\n",
    "    print ('x < y', (x < y))\n",
    "    print ('x <= y', (x <= y))\n",
    "    print ('x in li', (x in li))\n",
    "    print ('y in li', (y in li))\n",
    "if __name__ == '__main__':\n",
    "    main()"
   ]
  },
  {
   "cell_type": "code",
   "execution_count": 22,
   "id": "9f6b1fbf-9c38-4fc6-83b8-ee2b637fe358",
   "metadata": {},
   "outputs": [
    {
     "name": "stdout",
     "output_type": "stream",
     "text": [
      "Operasi AND\n",
      "True and True \t: True\n",
      "True and False \t: False\n",
      "False and True \t: False\n",
      "False and False \t: False\n"
     ]
    }
   ],
   "source": [
    "# operator Logika\n",
    "#contoh program operasi AND\n",
    "def main():\n",
    "    print('Operasi AND')\n",
    "    print('True and True \\t:', (True and True))\n",
    "    print('True and False \\t:', (True and False))\n",
    "    print('False and True \\t:', (False and True))\n",
    "    print ('False and False \\t:', (False and False))\n",
    "    \n",
    "if __name__ == '__main__':\n",
    "    main()"
   ]
  },
  {
   "cell_type": "code",
   "execution_count": 23,
   "id": "76ebc44c-6c7d-4ddb-8675-0d23854e42f9",
   "metadata": {},
   "outputs": [
    {
     "name": "stdout",
     "output_type": "stream",
     "text": [
      "PoliteknikTakumi\n"
     ]
    }
   ],
   "source": [
    "#contoh \n",
    "str1 = 'Politeknik'\n",
    "str2 = 'Takumi'\n",
    "#menjumlahkan string\n",
    "str3 = (str1 + str2)\n",
    "print (str3)\n"
   ]
  },
  {
   "cell_type": "code",
   "execution_count": 24,
   "id": "6a7fb1bf-e24e-43d0-9eca-708752226fb4",
   "metadata": {},
   "outputs": [
    {
     "name": "stdout",
     "output_type": "stream",
     "text": [
      "bil1: 15\n",
      "bil1: 7.25\n"
     ]
    }
   ],
   "source": [
    "#coontoh\n",
    "bil1 = 15\n",
    "bil2 = 7.25\n",
    "str1 = 'bil1: %d' %bil1\n",
    "str2 = 'bil1: %.2f' % bil2\n",
    "print(str1)\n",
    "print(str2)"
   ]
  },
  {
   "cell_type": "code",
   "execution_count": 25,
   "id": "2b952daa-2972-428a-9b40-29440454a679",
   "metadata": {},
   "outputs": [
    {
     "name": "stdout",
     "output_type": "stream",
     "text": [
      "'Takumi' ada di dalam string eko\n"
     ]
    }
   ],
   "source": [
    "#operator \"in\"\n",
    "#contoh\n",
    "eko = 'Politeknik Takumi'\n",
    "if 'Takumi' in eko:\n",
    "    print(\"'Takumi' ada di dalam string eko\")\n",
    "else:\n",
    "    print(\"'Takumi' ada di dalam string eko\")"
   ]
  },
  {
   "cell_type": "code",
   "execution_count": 27,
   "id": "829a05f5-f7a6-410f-af16-56b86bfc9b60",
   "metadata": {},
   "outputs": [
    {
     "name": "stdout",
     "output_type": "stream",
     "text": [
      "TTT\n",
      "TTT TTT TTT TTT TTT \n"
     ]
    }
   ],
   "source": [
    "#menerapkan operator \"*\"\n",
    "#Contoh \n",
    "karakter = 'T'\n",
    "teks = karakter * 3\n",
    "print (teks)\n",
    "print((teks +' ')* 5)"
   ]
  },
  {
   "cell_type": "code",
   "execution_count": 28,
   "id": "a15905a9-c374-4fb1-91ed-696c2bf67b2d",
   "metadata": {},
   "outputs": [
    {
     "name": "stdout",
     "output_type": "stream",
     "text": [
      "Takumi Takumi Takumi Takumi Takumi \n"
     ]
    }
   ],
   "source": [
    "#contoh\n",
    "print('Takumi ' * 5)"
   ]
  },
  {
   "cell_type": "code",
   "execution_count": 34,
   "id": "4bae89c3-f38a-43e1-86b7-79423a9ed260",
   "metadata": {},
   "outputs": [
    {
     "name": "stdout",
     "output_type": "stream",
     "text": [
      "x: \t120\n",
      "y: \t127\n",
      "\n",
      "Bitwise AND\n",
      "x&y \t:120\n",
      "\n",
      "Bitwise OR\n",
      "x | y \t:127\n",
      "\n",
      "Bitwise XOR\n",
      "x^y \t:7\n",
      "\n",
      "Bitwise NOT\n",
      "~x \t:-121\n",
      "~y \t:-128\n",
      "\n",
      " Bitwise SHIFT LEFT\n",
      "x << 1 \t:240\n",
      "y << 1 \t:254\n",
      "\n",
      "Bitwise SHIFT RIGHT\n",
      "x >> 1 \t:60\n",
      "y >> 1 \t:63\n"
     ]
    }
   ],
   "source": [
    "#Contoh program:\n",
    "\n",
    "def main():\n",
    "    x = 120  #dalam bentuk biner: 01111000 \n",
    "    y = 127  #dalam bentuk biner: 01111111\n",
    "\n",
    "    # menampilkan nilai x dan y \n",
    "    print('x: \\t' + str(x)) \n",
    "    print('y: \\t' + str(y))\n",
    "\n",
    "    print('\\nBitwise AND') \n",
    "    print('x&y \\t:' + str(x&y))\n",
    "\n",
    "    print('\\nBitwise OR') \n",
    "    print('x | y \\t:' + str(x | y))\n",
    "\n",
    "    print('\\nBitwise XOR') \n",
    "    print('x^y \\t:' + str(x^y))\n",
    "\n",
    "    print('\\nBitwise NOT') \n",
    "    print('~x \\t:' + str(~x)) \n",
    "    print('~y \\t:' + str(~y))\n",
    "\n",
    "    print('\\n Bitwise SHIFT LEFT') \n",
    "    print('x << 1 \\t:' + str(x << 1)) \n",
    "    print('y << 1 \\t:' + str(y << 1))\n",
    "\n",
    "    print('\\nBitwise SHIFT RIGHT') \n",
    "    print('x >> 1 \\t:' + str(x >> 1)) \n",
    "    print('y >> 1 \\t:' + str(y >> 1))\n",
    "\n",
    "if __name__ == '__main__':\n",
    "    main()"
   ]
  },
  {
   "cell_type": "code",
   "execution_count": null,
   "id": "6f05590b-cde8-4b65-a6a0-d04197f3fcd4",
   "metadata": {},
   "outputs": [],
   "source": []
  }
 ],
 "metadata": {
  "kernelspec": {
   "display_name": "Python 3 (ipykernel)",
   "language": "python",
   "name": "python3"
  },
  "language_info": {
   "codemirror_mode": {
    "name": "ipython",
    "version": 3
   },
   "file_extension": ".py",
   "mimetype": "text/x-python",
   "name": "python",
   "nbconvert_exporter": "python",
   "pygments_lexer": "ipython3",
   "version": "3.11.5"
  }
 },
 "nbformat": 4,
 "nbformat_minor": 5
}
