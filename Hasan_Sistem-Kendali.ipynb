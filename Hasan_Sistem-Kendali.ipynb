{
 "cells": [
  {
   "cell_type": "code",
   "execution_count": null,
   "id": "a33aca59-a21e-4cf3-b97e-e604e770a881",
   "metadata": {},
   "outputs": [
    {
     "name": "stdout",
     "output_type": "stream",
     "text": [
      "=== SIMULASI SISTEM KENDALI POMPA AIR ===\n",
      "Gunakan input 1 (Ya) atau 0 (Tidak) untuk mensimulasikan kondisi sensor.\n",
      "\n"
     ]
    },
    {
     "name": "stdin",
     "output_type": "stream",
     "text": [
      "Apakah tangki bawah ada air? (1=Ya, 0=Tidak):  1\n",
      "Apakah tangki atas sudah penuh? (1=Ya, 0=Tidak):  0\n"
     ]
    },
    {
     "name": "stdout",
     "output_type": "stream",
     "text": [
      "\n",
      "--- Status Sensor ---\n",
      "Tangki bawah ada air?   Ya\n",
      "Tangki atas penuh?      Tidak\n",
      "🔧 Pompa DINYALAKAN\n",
      "----------------------------------------\n"
     ]
    },
    {
     "name": "stdin",
     "output_type": "stream",
     "text": [
      "Apakah tangki bawah ada air? (1=Ya, 0=Tidak):  0\n",
      "Apakah tangki atas sudah penuh? (1=Ya, 0=Tidak):  1\n"
     ]
    },
    {
     "name": "stdout",
     "output_type": "stream",
     "text": [
      "\n",
      "--- Status Sensor ---\n",
      "Tangki bawah ada air?   Tidak\n",
      "Tangki atas penuh?      Ya\n",
      "🛑 Pompa DIMATIKAN\n",
      "----------------------------------------\n"
     ]
    }
   ],
   "source": [
    "import time\n",
    "\n",
    "def nyalakan_pompa():\n",
    "    print(\"🔧 Pompa DINYALAKAN\")\n",
    "\n",
    "def matikan_pompa():\n",
    "    print(\"🛑 Pompa DIMATIKAN\")\n",
    "\n",
    "def cek_kondisi(sensor_bawah, sensor_atas):\n",
    "    print(\"\\n--- Status Sensor ---\")\n",
    "    print(f\"Tangki bawah ada air?   {'Ya' if sensor_bawah else 'Tidak'}\")\n",
    "    print(f\"Tangki atas penuh?      {'Ya' if sensor_atas else 'Tidak'}\")\n",
    "\n",
    "    if sensor_bawah and not sensor_atas:\n",
    "        nyalakan_pompa()\n",
    "    else:\n",
    "        matikan_pompa()\n",
    "\n",
    "def input_status_sensor():\n",
    "    while True:\n",
    "        try:\n",
    "            bawah = int(input(\"Apakah tangki bawah ada air? (1=Ya, 0=Tidak): \"))\n",
    "            atas = int(input(\"Apakah tangki atas sudah penuh? (1=Ya, 0=Tidak): \"))\n",
    "            if bawah in [0, 1] and atas in [0, 1]:\n",
    "                return bool(bawah), bool(atas)\n",
    "            else:\n",
    "                print(\"Input hanya boleh 1 (Ya) atau 0 (Tidak). Coba lagi.\")\n",
    "        except ValueError:\n",
    "            print(\"Input harus berupa angka 1 atau 0. Coba lagi.\")\n",
    "\n",
    "def main():\n",
    "    print(\"=== SIMULASI SISTEM KENDALI POMPA AIR ===\")\n",
    "    print(\"Gunakan input 1 (Ya) atau 0 (Tidak) untuk mensimulasikan kondisi sensor.\\n\")\n",
    "    \n",
    "    try:\n",
    "        while True:\n",
    "            sensor_bawah, sensor_atas = input_status_sensor()\n",
    "            cek_kondisi(sensor_bawah, sensor_atas)\n",
    "            print(\"-\" * 40)\n",
    "            time.sleep(1)\n",
    "    except KeyboardInterrupt:\n",
    "        print(\"\\nProgram dihentikan oleh pengguna.\")\n",
    "\n",
    "if __name__ == \"__main__\":\n",
    "    main()\n"
   ]
  },
  {
   "cell_type": "code",
   "execution_count": null,
   "id": "a5fe3583-b25a-4b08-95ee-bbded59b344c",
   "metadata": {},
   "outputs": [],
   "source": []
  }
 ],
 "metadata": {
  "kernelspec": {
   "display_name": "Python 3 (ipykernel)",
   "language": "python",
   "name": "python3"
  },
  "language_info": {
   "codemirror_mode": {
    "name": "ipython",
    "version": 3
   },
   "file_extension": ".py",
   "mimetype": "text/x-python",
   "name": "python",
   "nbconvert_exporter": "python",
   "pygments_lexer": "ipython3",
   "version": "3.11.5"
  }
 },
 "nbformat": 4,
 "nbformat_minor": 5
}
