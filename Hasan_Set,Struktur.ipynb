{
 "cells": [
  {
   "cell_type": "code",
   "execution_count": 11,
   "id": "6a8c37f0-75fc-4e77-8e9e-4bd0e1db3349",
   "metadata": {},
   "outputs": [
    {
     "name": "stdout",
     "output_type": "stream",
     "text": [
      "Elemen awal:\n",
      "Setelah pemanggilan add():\n",
      "Setelah pemanggilan update():\n",
      "Setelah pemanggilan remove():\n",
      "Setelah penanggilan clear():\n",
      "Himpunan kosong\n",
      "\n"
     ]
    },
    {
     "ename": "SystemExit",
     "evalue": "1",
     "output_type": "error",
     "traceback": [
      "An exception has occurred, use %tb to see the full traceback.\n",
      "\u001b[1;31mSystemExit\u001b[0m\u001b[1;31m:\u001b[0m 1\n"
     ]
    }
   ],
   "source": [
    "#Type Set, Struktur Pemilihan dan Pengulangan\n",
    "import sys\n",
    "def printElements(s, info):\n",
    "    print(info)\n",
    "    if len(s) == 0:\n",
    "        print(\"Himpunan kosong\\n\")\n",
    "        sys.exit(1)\n",
    "        for e in s:\n",
    "            print(str(e)+\"\", end = '')\n",
    "        print(\"\\n\")\n",
    "\n",
    "#membuat himpunan\n",
    "s = set([11, 22, 33, 44, 55])\n",
    "printElements(s, \"Elemen awal:\")\n",
    "\n",
    "#menambah anggota/elemen baru\n",
    "#menggunakan metode add()\n",
    "s.add(66);\n",
    "s.add(77);\n",
    "printElements(s, \"Setelah pemanggilan add():\")\n",
    "\n",
    "#menambah anggata/elemen baru\n",
    "#menggunakan metode update()\n",
    "s.update([88, 99])\n",
    "printElements(s, \"Setelah pemanggilan update():\")\n",
    "\n",
    "#menghapus elemen dengan nilai 44\n",
    "s.remove(44)\n",
    "printElements(s, \"Setelah pemanggilan remove():\")\n",
    "\n",
    "#menghapus semua elemen\n",
    "s.clear()\n",
    "printElements(s, \"Setelah penanggilan clear():\")"
   ]
  },
  {
   "cell_type": "code",
   "execution_count": 36,
   "id": "2f1c1952-cb61-4388-8820-28be0fb2b92b",
   "metadata": {},
   "outputs": [
    {
     "name": "stdout",
     "output_type": "stream",
     "text": [
      "Operasi Union:\n",
      "{1, 2, 3, 4}\n",
      "Operasi intersection:\n",
      "{3}\n",
      "Operasi difference:\n",
      "{1, 2}\n",
      "Operasi symmetric difference:\n",
      "{1, 2, 4}\n"
     ]
    }
   ],
   "source": [
    "#type set mendukung operasi-operasi himpunan seperti:\n",
    "x = set ([1, 2, 3])\n",
    "y = set([3, 4])\n",
    "\n",
    "a = x | y #union\n",
    "print('Operasi Union:')\n",
    "print(a)\n",
    "b = x & y # intersection\n",
    "print('Operasi intersection:')\n",
    "print(b)\n",
    "c = x - y\n",
    "print ('Operasi difference:')\n",
    "print(c)\n",
    "d = x ^ y\n",
    "print('Operasi symmetric difference:')\n",
    "print(d)"
   ]
  },
  {
   "cell_type": "code",
   "execution_count": 19,
   "id": "1a1950b0-e7c0-41ec-94da-0fb4e6e4f525",
   "metadata": {},
   "outputs": [
    {
     "name": "stdout",
     "output_type": "stream",
     "text": [
      "frozenset({1, 2, 3})\n"
     ]
    },
    {
     "ename": "AttributeError",
     "evalue": "'frozenset' object has no attribute 'add'",
     "output_type": "error",
     "traceback": [
      "\u001b[1;31m---------------------------------------------------------------------------\u001b[0m",
      "\u001b[1;31mAttributeError\u001b[0m                            Traceback (most recent call last)",
      "Cell \u001b[1;32mIn[19], line 4\u001b[0m\n\u001b[0;32m      2\u001b[0m fs\u001b[38;5;241m=\u001b[39m \u001b[38;5;28mfrozenset\u001b[39m ([\u001b[38;5;241m1\u001b[39m, \u001b[38;5;241m2\u001b[39m, \u001b[38;5;241m3\u001b[39m])\n\u001b[0;32m      3\u001b[0m \u001b[38;5;28mprint\u001b[39m(fs)\n\u001b[1;32m----> 4\u001b[0m \u001b[43mfs\u001b[49m\u001b[38;5;241;43m.\u001b[39;49m\u001b[43madd\u001b[49m(\u001b[38;5;241m4\u001b[39m)\n",
      "\u001b[1;31mAttributeError\u001b[0m: 'frozenset' object has no attribute 'add'"
     ]
    }
   ],
   "source": [
    "#frozenset tidak memiliki metode add()\n",
    "fs= frozenset ([1, 2, 3])\n",
    "print(fs)\n",
    "fs.add(4)"
   ]
  },
  {
   "cell_type": "code",
   "execution_count": 20,
   "id": "ed1d0e32-0678-4bef-9418-acf2efce9aba",
   "metadata": {},
   "outputs": [
    {
     "name": "stdout",
     "output_type": "stream",
     "text": [
      "frozenset({1, 2, 3})\n"
     ]
    },
    {
     "ename": "AttributeError",
     "evalue": "'frozenset' object has no attribute 'update'",
     "output_type": "error",
     "traceback": [
      "\u001b[1;31m---------------------------------------------------------------------------\u001b[0m",
      "\u001b[1;31mAttributeError\u001b[0m                            Traceback (most recent call last)",
      "Cell \u001b[1;32mIn[20], line 4\u001b[0m\n\u001b[0;32m      2\u001b[0m fs\u001b[38;5;241m=\u001b[39m \u001b[38;5;28mfrozenset\u001b[39m ([\u001b[38;5;241m1\u001b[39m, \u001b[38;5;241m2\u001b[39m, \u001b[38;5;241m3\u001b[39m])\n\u001b[0;32m      3\u001b[0m \u001b[38;5;28mprint\u001b[39m(fs)\n\u001b[1;32m----> 4\u001b[0m \u001b[43mfs\u001b[49m\u001b[38;5;241;43m.\u001b[39;49m\u001b[43mupdate\u001b[49m(\u001b[38;5;241m4\u001b[39m, \u001b[38;5;241m5\u001b[39m)\n",
      "\u001b[1;31mAttributeError\u001b[0m: 'frozenset' object has no attribute 'update'"
     ]
    }
   ],
   "source": [
    "#frozenset tidak memiliki metode update()\n",
    "fs= frozenset ([1, 2, 3])\n",
    "print(fs)\n",
    "fs.update(4, 5)"
   ]
  },
  {
   "cell_type": "code",
   "execution_count": 21,
   "id": "1f346cfb-6466-4154-a7dc-0f597c2ded71",
   "metadata": {},
   "outputs": [
    {
     "name": "stdout",
     "output_type": "stream",
     "text": [
      "frozenset({1, 2, 3})\n"
     ]
    },
    {
     "ename": "AttributeError",
     "evalue": "'frozenset' object has no attribute 'remove'",
     "output_type": "error",
     "traceback": [
      "\u001b[1;31m---------------------------------------------------------------------------\u001b[0m",
      "\u001b[1;31mAttributeError\u001b[0m                            Traceback (most recent call last)",
      "Cell \u001b[1;32mIn[21], line 4\u001b[0m\n\u001b[0;32m      2\u001b[0m fs\u001b[38;5;241m=\u001b[39m \u001b[38;5;28mfrozenset\u001b[39m ([\u001b[38;5;241m1\u001b[39m, \u001b[38;5;241m2\u001b[39m, \u001b[38;5;241m3\u001b[39m])\n\u001b[0;32m      3\u001b[0m \u001b[38;5;28mprint\u001b[39m(fs)\n\u001b[1;32m----> 4\u001b[0m \u001b[43mfs\u001b[49m\u001b[38;5;241;43m.\u001b[39;49m\u001b[43mremove\u001b[49m(\u001b[38;5;241m3\u001b[39m)\n",
      "\u001b[1;31mAttributeError\u001b[0m: 'frozenset' object has no attribute 'remove'"
     ]
    }
   ],
   "source": [
    "#frozenset tidak memiliki metode remove()\n",
    "fs= frozenset ([1, 2, 3])\n",
    "print(fs)\n",
    "fs.remove(3)"
   ]
  },
  {
   "cell_type": "code",
   "execution_count": 22,
   "id": "9bc22943-d663-45e3-81fb-2e862aac0f31",
   "metadata": {},
   "outputs": [
    {
     "name": "stdout",
     "output_type": "stream",
     "text": [
      "frozenset({1, 2, 3})\n"
     ]
    },
    {
     "ename": "AttributeError",
     "evalue": "'frozenset' object has no attribute 'clear'",
     "output_type": "error",
     "traceback": [
      "\u001b[1;31m---------------------------------------------------------------------------\u001b[0m",
      "\u001b[1;31mAttributeError\u001b[0m                            Traceback (most recent call last)",
      "Cell \u001b[1;32mIn[22], line 4\u001b[0m\n\u001b[0;32m      2\u001b[0m fs\u001b[38;5;241m=\u001b[39m \u001b[38;5;28mfrozenset\u001b[39m ([\u001b[38;5;241m1\u001b[39m, \u001b[38;5;241m2\u001b[39m, \u001b[38;5;241m3\u001b[39m])\n\u001b[0;32m      3\u001b[0m \u001b[38;5;28mprint\u001b[39m(fs)\n\u001b[1;32m----> 4\u001b[0m \u001b[43mfs\u001b[49m\u001b[38;5;241;43m.\u001b[39;49m\u001b[43mclear\u001b[49m()\n",
      "\u001b[1;31mAttributeError\u001b[0m: 'frozenset' object has no attribute 'clear'"
     ]
    }
   ],
   "source": [
    "#frozenset tidak memiliki metode clear()\n",
    "fs= frozenset ([1, 2, 3])\n",
    "print(fs)\n",
    "fs.clear()"
   ]
  },
  {
   "cell_type": "code",
   "execution_count": 35,
   "id": "4a7d43de-c61c-42c8-9056-c47b1df41f15",
   "metadata": {},
   "outputs": [
    {
     "name": "stdout",
     "output_type": "stream",
     "text": [
      "Pemrograman Python 3\n"
     ]
    }
   ],
   "source": [
    "#contoh :\n",
    "versi = 3\n",
    "str = 'Pemrograman Python'\n",
    "\n",
    "if versi == 3:\n",
    "    print(str + ' 3')\n",
    "else:\n",
    "    print(str)"
   ]
  },
  {
   "cell_type": "code",
   "execution_count": 30,
   "id": "42525b95-188e-4e9f-851c-b481df23b866",
   "metadata": {},
   "outputs": [
    {
     "name": "stdout",
     "output_type": "stream",
     "text": [
      "Bahasa\t\t: Python 3\n",
      "Versi Python \t:3.11.5 (tags/v3.11.5:cce6ba9, Aug 24 2023, 14:38:34) [MSC v.1936 64 bit (AMD64)]\n"
     ]
    }
   ],
   "source": [
    "#contoh \n",
    "import sys\n",
    "versi = sys.version\n",
    "if versi [:1] == '3':\n",
    "    print('Bahasa\\t\\t: Python 3')\n",
    "    print('Versi Python \\t:' +versi[:])"
   ]
  },
  {
   "cell_type": "code",
   "execution_count": 50,
   "id": "106159ba-dba3-4db6-bcad-a7b83dbe5214",
   "metadata": {},
   "outputs": [
    {
     "name": "stdin",
     "output_type": "stream",
     "text": [
      "Masukkan bilangan pertama\t: 123\n",
      "Masukkan bilangan kedua \t: 23\n",
      "Masukkan operator(+,-,*,/)\t: /\n"
     ]
    },
    {
     "name": "stdout",
     "output_type": "stream",
     "text": [
      "123.00 / 23.00 = 5.35\n"
     ]
    }
   ],
   "source": [
    "#Contoh kode python\n",
    "def main():\n",
    "    x = float (input('Masukkan bilangan pertama\\t:'))\n",
    "    y = float(input ('Masukkan bilangan kedua \\t:'))\n",
    "    op = input('Masukkan operator(+,-,*,/)\\t:')\n",
    "    if op == '+':\n",
    "        print('%.2f + %.2f = %.2f' % (x, y, x+y))\n",
    "    elif op == '-':\n",
    "        print('%.2f - %.2f = %.2f' % (x,y, x-y))\n",
    "    elif op == '*':\n",
    "        print( '%.2f * %.2f = %.2f' % (x,y, x*y))\n",
    "    elif op == '/':\n",
    "        print( '%.2f / %.2f = %.2f' % (x,y, x/y))\n",
    "    else:\n",
    "        print('ERROR: Gunakan operator +,-,*,/')\n",
    "if __name__ =='__main__':\n",
    "    main()"
   ]
  },
  {
   "cell_type": "code",
   "execution_count": 51,
   "id": "474cee4e-6a2c-4694-b28f-504b38d277ce",
   "metadata": {},
   "outputs": [
    {
     "name": "stdout",
     "output_type": "stream",
     "text": [
      "Python"
     ]
    }
   ],
   "source": [
    "#contoh Program\n",
    "a = 'Python'\n",
    "#menelusuri semua karakter dalam string: a\n",
    "for c in a:\n",
    "    print(c, end='')"
   ]
  },
  {
   "cell_type": "code",
   "execution_count": 52,
   "id": "2972050e-f8e9-48b5-a881-a6c9f95f57e4",
   "metadata": {},
   "outputs": [
    {
     "name": "stdout",
     "output_type": "stream",
     "text": [
      "Python\n",
      "Ruby\n",
      "Perl\n",
      "PHP\n"
     ]
    }
   ],
   "source": [
    "#Contoh Program\n",
    "b = [ 'Python', 'Ruby', 'Perl', 'PHP']\n",
    "#menelusuri semua karakter list: a\n",
    "for e in b:\n",
    "    print(e)"
   ]
  },
  {
   "cell_type": "code",
   "execution_count": 54,
   "id": "a87a386d-bf7b-4354-97fa-9e647b1a2b00",
   "metadata": {},
   "outputs": [
    {
     "name": "stdout",
     "output_type": "stream",
     "text": [
      "Arti 'one' adalah 'satu'\n",
      "Arti 'two' adalah 'dua'\n",
      "Arti 'Three' adalah 'Tiga'\n"
     ]
    }
   ],
   "source": [
    "#contohProgram\n",
    "c = {'one': 'satu','two':'dua', 'Three':'Tiga'}\n",
    "#menelusuri semua elemen di dalam dictionary: c\n",
    "for key in c:\n",
    "    print(\"Arti '%s' adalah '%s'\" %(key, c[key]))"
   ]
  },
  {
   "cell_type": "code",
   "execution_count": 55,
   "id": "a6a243ca-0b4c-4e4e-ba48-75595e6d95c5",
   "metadata": {},
   "outputs": [
    {
     "name": "stdout",
     "output_type": "stream",
     "text": [
      "012345"
     ]
    }
   ],
   "source": [
    "#contoh\n",
    "for i in range (6):\n",
    "    print(i, end='')"
   ]
  },
  {
   "cell_type": "code",
   "execution_count": 56,
   "id": "d0abd266-4e04-49bb-9a2f-d5c1bf7e5e47",
   "metadata": {},
   "outputs": [
    {
     "name": "stdout",
     "output_type": "stream",
     "text": [
      "10 12 14 16 18 20 "
     ]
    }
   ],
   "source": [
    "#contoh\n",
    "for i in range (10,22,2):\n",
    "    print(\"%d \" % i, end='')"
   ]
  },
  {
   "cell_type": "code",
   "execution_count": null,
   "id": "7ab2e837-2e8a-4331-be7b-c3a4230ad9f5",
   "metadata": {},
   "outputs": [],
   "source": []
  }
 ],
 "metadata": {
  "kernelspec": {
   "display_name": "Python 3 (ipykernel)",
   "language": "python",
   "name": "python3"
  },
  "language_info": {
   "codemirror_mode": {
    "name": "ipython",
    "version": 3
   },
   "file_extension": ".py",
   "mimetype": "text/x-python",
   "name": "python",
   "nbconvert_exporter": "python",
   "pygments_lexer": "ipython3",
   "version": "3.11.5"
  }
 },
 "nbformat": 4,
 "nbformat_minor": 5
}
