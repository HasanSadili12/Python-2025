{
 "cells": [
  {
   "cell_type": "code",
   "execution_count": 1,
   "id": "54652218-9413-4089-bf7f-0bf210ebee86",
   "metadata": {},
   "outputs": [
    {
     "name": "stdout",
     "output_type": "stream",
     "text": [
      "1\n",
      "2\n",
      "3\n"
     ]
    }
   ],
   "source": [
    "#Modul 6 Fungsi dan Generator\n",
    "def sisabagi (a, b):\n",
    "    hasil=a % b\n",
    "    return hasil\n",
    "h1 = sisabagi (10, 3)\n",
    "h2 = sisabagi (14, 4)\n",
    "h3 = sisabagi(17, 7)\n",
    "print(h1)\n",
    "print(h2)\n",
    "print(h3)"
   ]
  },
  {
   "cell_type": "code",
   "execution_count": 3,
   "id": "48560976-1603-422e-b2da-7e3839b8de3c",
   "metadata": {},
   "outputs": [
    {
     "name": "stdout",
     "output_type": "stream",
     "text": [
      "PemrogramanPython\n",
      "Pemrograman\n",
      "Python\n"
     ]
    }
   ],
   "source": [
    "def write(s, newline=True):\n",
    "    print(s, end='')\n",
    "    if newline:print()\n",
    "write('Pemrograman', False); write(\"Python\")\n",
    "write('Pemrograman'); write(\"Python\")"
   ]
  },
  {
   "cell_type": "code",
   "execution_count": 6,
   "id": "527ce738-4285-4d48-917d-32c4b13a8d45",
   "metadata": {},
   "outputs": [
    {
     "name": "stdout",
     "output_type": "stream",
     "text": [
      "0\n",
      "1\n",
      "2\n"
     ]
    }
   ],
   "source": [
    "#Contoh variabel global\n",
    "count = 0\n",
    "#fungsi yang mengakses variabel  global\n",
    "def increment():\n",
    "    global count\n",
    "    count +=1 #mengubah variabel global\n",
    "print(count)\n",
    "#Memanggil fungsi increment()\n",
    "increment()\n",
    "#menampilkan nilai count\n",
    "#setelah pemanggilan fungsi increment()\n",
    "print(count)\n",
    "increment()\n",
    "print(count)"
   ]
  },
  {
   "cell_type": "code",
   "execution_count": 10,
   "id": "a58e72d0-0633-400e-a0a8-62ae26127caf",
   "metadata": {},
   "outputs": [
    {
     "name": "stdout",
     "output_type": "stream",
     "text": [
      "2025-10-07\n",
      "\n",
      "Hari\t: 7\n",
      "\n",
      "Bulan\t: 10\n",
      "\n",
      "Tahun\t: 2025\n"
     ]
    }
   ],
   "source": [
    "import datetime as dt\n",
    "def getisoformat(date):\n",
    "    return dt.date.isoformat(date)\n",
    "def day(date):\n",
    "    datestr = getisoformat(date)\n",
    "    return int (datestr[8:])\n",
    "def month(date):\n",
    "    datestr = getisoformat(date)\n",
    "    return int(datestr[5:7])\n",
    "def year(date):\n",
    "    datestr = getisoformat(date)\n",
    "    return int(datestr[:4])\n",
    "def main ():\n",
    "    today = dt.date.today()\n",
    "    print(getisoformat(today))\n",
    "    print(\"\\nHari\\t: %d\" % day (today))\n",
    "    print(\"\\nBulan\\t: %d\" % month(today))\n",
    "    print(\"\\nTahun\\t: %d\" % year(today))\n",
    "    \n",
    "if __name__ == \"__main__\":\n",
    "    main()"
   ]
  },
  {
   "cell_type": "code",
   "execution_count": 11,
   "id": "2f0c4c89-9209-4068-9763-c25cace2df01",
   "metadata": {},
   "outputs": [
    {
     "name": "stdout",
     "output_type": "stream",
     "text": [
      "0\n",
      "1\n",
      "2\n"
     ]
    }
   ],
   "source": [
    "def generator(n):\n",
    "    MAX = 2147483647\n",
    "    while n < MAX:\n",
    "        yield n\n",
    "        n += 1\n",
    "g = generator(0)\n",
    "print(g.__next__())\n",
    "print(g.__next__())\n",
    "print(g.__next__())"
   ]
  },
  {
   "cell_type": "code",
   "execution_count": null,
   "id": "d1ab4309-2182-491e-93f7-f226f79bc9ea",
   "metadata": {},
   "outputs": [],
   "source": []
  }
 ],
 "metadata": {
  "kernelspec": {
   "display_name": "Python 3 (ipykernel)",
   "language": "python",
   "name": "python3"
  },
  "language_info": {
   "codemirror_mode": {
    "name": "ipython",
    "version": 3
   },
   "file_extension": ".py",
   "mimetype": "text/x-python",
   "name": "python",
   "nbconvert_exporter": "python",
   "pygments_lexer": "ipython3",
   "version": "3.11.5"
  }
 },
 "nbformat": 4,
 "nbformat_minor": 5
}
