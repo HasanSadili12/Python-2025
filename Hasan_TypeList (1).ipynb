{
 "cells": [
  {
   "cell_type": "code",
   "execution_count": 3,
   "id": "b7840f55-c8db-4a6b-ac33-99d190f9925a",
   "metadata": {},
   "outputs": [
    {
     "name": "stdout",
     "output_type": "stream",
     "text": [
      "index List\n",
      "10\n",
      "30\n",
      "50\n",
      "50\n",
      "40\n",
      "10\n",
      "Banyaknya elemen\n",
      "5\n"
     ]
    }
   ],
   "source": [
    "#Type List\n",
    "#Dalam python mirip dengan array normal\n",
    "#Dalam list, Elemen tidak di indeks berdasarkan kunci(key) tertentu\n",
    "#indeks bilangan selalu diawali dari nilai nol (0)\n",
    "##indeks umum: nama_list = [nilai1, nilai2, nilai3,....]\n",
    "#contoh\n",
    "list = [10, 20, 30, 40, 50]\n",
    "print ('index List')\n",
    "print(list[0]) #bernilai 10\n",
    "print(list[2]) #bernilai 30\n",
    "print(list[4]) #bernilai 50\n",
    "print(list[-1]) #bernilai 50\n",
    "print(list[-2]) #bernilai 40\n",
    "print(list[-5]) #bernilai 10\n",
    "print('Banyaknya elemen')\n",
    "print(len(list))"
   ]
  },
  {
   "cell_type": "code",
   "execution_count": 4,
   "id": "fdba3d61-fdf0-42ee-839d-89c03ef7e684",
   "metadata": {},
   "outputs": [
    {
     "name": "stdout",
     "output_type": "stream",
     "text": [
      "Sebelum dipotong:\n",
      "[10, 20, 30, 40, 50]\n",
      "Setelah dipotong:\n",
      "[10, 20, 30, 40]\n",
      "[10]\n",
      "[50]\n",
      "[40, 50]\n"
     ]
    }
   ],
   "source": [
    "#contoh\n",
    "list = [10, 20, 30, 40, 50]\n",
    "#slicing (memotong) elemen didalam list\n",
    "print('Sebelum dipotong:')\n",
    "print(list)\n",
    "print('Setelah dipotong:')\n",
    "print(list[:-1])#memotong elemen pertama dari kanan\n",
    "print(list[:1]) #memotong elemen\n",
    "print(list[-1:]) #memotong elemen dari kanan kecuali elemen -1\n",
    "print (list[-2:]) #tugas berikan penjelasan pada slicing"
   ]
  },
  {
   "cell_type": "code",
   "execution_count": 5,
   "id": "1c5bebc4-7a98-4445-b54c-8868bc9f3b0d",
   "metadata": {},
   "outputs": [
    {
     "name": "stdout",
     "output_type": "stream",
     "text": [
      "Sebelum digabung:\n",
      "[10, 20, 30, 40, 50]\n",
      "Setelah digabung:\n",
      "[10, 20, 30, 40, 50, 600, 700, 800]\n"
     ]
    }
   ],
   "source": [
    "#contoh\n",
    "list = [10, 20, 30, 40, 50]\n",
    "#penggabungan elemen list dan membuat daftar list baru\n",
    "print('Sebelum digabung:')\n",
    "print(list)\n",
    "print('Setelah digabung:')\n",
    "print (list + [600, 700, 800])"
   ]
  },
  {
   "cell_type": "code",
   "execution_count": 6,
   "id": "25d00834-7912-4bfd-8d71-4c23d7132a6c",
   "metadata": {},
   "outputs": [
    {
     "name": "stdout",
     "output_type": "stream",
     "text": [
      "5\n",
      "30\n",
      "30\n"
     ]
    }
   ],
   "source": [
    "#pengambilan elemen list menggunakan indeks negatif dapat  ditentukan dengan formula  \n",
    "#list[-n] = list [len(list) -n]\n",
    "#contoh\n",
    "list = [10, 20, 30, 40, 50]\n",
    "print(len(list)) #berfungsi untuk mengambil jumlah atau banyaknya elemen dalam list\n",
    "#jika n=-3\n",
    "list [-3]=list[len(list)-3] #=list[2]\n",
    "print(list[-3])\n",
    "print(list[2]) #berarti list[-3]=list[2]"
   ]
  },
  {
   "cell_type": "code",
   "execution_count": 7,
   "id": "189eb988-cdda-4469-9e3d-7d855013bfc0",
   "metadata": {},
   "outputs": [
    {
     "name": "stdout",
     "output_type": "stream",
     "text": [
      "[1, 'Jeruk', 2, 'Rambutan', 3, 'Durian']\n",
      "1\n",
      "Jeruk\n",
      "2\n",
      "Rambutan\n",
      "3\n",
      "Durian\n"
     ]
    }
   ],
   "source": [
    "#dalam python, bernilai elemen didalam list bisa berasal dari tipe data yang berbeda\n",
    "#contoh\n",
    "list = [1, 'Jeruk',2, 'Rambutan', 3, 'Durian']\n",
    "#menampilkan elemen dalam list\n",
    "print(list)\n",
    "#index elemen list\n",
    "print(list[0])\n",
    "print(list[1])\n",
    "print(list[2])\n",
    "print(list[3])\n",
    "print(list[4])\n",
    "print(list[5])"
   ]
  },
  {
   "cell_type": "code",
   "execution_count": 9,
   "id": "d00e1586-b8d7-46c7-8005-81005d6e28c7",
   "metadata": {},
   "outputs": [
    {
     "name": "stdout",
     "output_type": "stream",
     "text": [
      "Jl.Raya Kodam\n",
      "Cikarang Selatan\n",
      "17530\n"
     ]
    }
   ],
   "source": [
    "#Nilai elemen dalam list juga berupa list lain\n",
    "#konsep sama dengan array multidimensional\n",
    "#contoh\n",
    "list = [1, 'Takumi', ['Jl.Raya Kodam', 'Cikarang Selatan', 17530], '08111374497']\n",
    "print(list[2][0])\n",
    "print(list[2][1])\n",
    "print(list[2][2])"
   ]
  },
  {
   "cell_type": "code",
   "execution_count": 12,
   "id": "767f1b36-2e1b-44c5-89cf-38e78b023a90",
   "metadata": {},
   "outputs": [
    {
     "name": "stdout",
     "output_type": "stream",
     "text": [
      "Matriks 3x3\n",
      "[[1, 2, 3], [4, 5, 6], [7, 8, 9]]\n",
      "Mengambil baris ke-2:\n",
      "[4, 5, 6]\n",
      "Mengambil baris ke-2,lalu dapatkan item ke-3 didalam baris\n",
      "6\n",
      "2\n",
      "4\n",
      "8\n",
      "(2, 4, 8)\n"
     ]
    }
   ],
   "source": [
    "#contoh array multidimensional (nesting) dalam bentuk matriks\n",
    "M = [[1, 2, 3],\n",
    "     [4, 5, 6],\n",
    "     [7, 8, 9]]\n",
    "print('Matriks 3x3')\n",
    "print(M) #Menampilkan matriks 3x3\n",
    "print ('Mengambil baris ke-2:')\n",
    "print(M[1])#menampilkan baris kedua\n",
    "print('Mengambil baris ke-2,lalu dapatkan item ke-3 didalam baris')\n",
    "print(M[1][2])\n",
    "print(M[0][1])\n",
    "print(M[1][0])\n",
    "print(M[2][1])\n",
    "Matrix =((M[0][1]),(M[1][0]), (M[2][1]))\n",
    "print(Matrix)"
   ]
  },
  {
   "cell_type": "code",
   "execution_count": 16,
   "id": "7776e1e0-b053-46b4-b840-12213cc1909d",
   "metadata": {},
   "outputs": [
    {
     "name": "stdout",
     "output_type": "stream",
     "text": [
      "Matriks 3x3\n",
      "[[1, 2, 3], [4, 5, 6], [7, 8, 9]]\n",
      "Hasil penambahan 1 untuik setiap item di kolom 2\n",
      "[3, 6, 9]\n",
      "Matriks 3x3 sebelum penyaringan data:\n",
      "[[1, 2, 3], [4, 5, 6], [7, 8, 9]]\n",
      "data matriks yang telah disaring pada kolo ke-2\n",
      "[2, 8]\n",
      "Data matriks yang telah ddisaring pada kolom ke-1\n",
      "[1, 7]\n",
      "Matriks 3x3:\n",
      "[[1, 2, 3], [4, 5, 6], [7, 8, 9]]\n",
      "bentuk diagonal matriks\n",
      "[1, 5, 9]\n"
     ]
    }
   ],
   "source": [
    "#list comprehension expression\n",
    "#membuat matriks\n",
    "M = [[1, 2, 3],\n",
    "     [4, 5, 6],\n",
    "     [7, 8, 9]]\n",
    "print('Matriks 3x3')\n",
    "print(M)\n",
    "#tambahkan 1 untuk setiap item didalam kolom 2\n",
    "M1= [row[1]+1 for row in M]\n",
    "print('Hasil penambahan 1 untuik setiap item di kolom 2')\n",
    "print(M1)\n",
    "#menyaring item data pada matriks\n",
    "print('Matriks 3x3 sebelum penyaringan data:')\n",
    "print(M)\n",
    "M2=[row[1]for row in M if row[1]%2==0]\n",
    "print('data matriks yang telah disaring pada kolo ke-2')\n",
    "print(M2)\n",
    "M3= [row[0] for row in M if row[1]%2==0]\n",
    "print('Data matriks yang telah ddisaring pada kolom ke-1')\n",
    "print(M3)\n",
    "#mengumpulkan diagonal dari matriks \n",
    "print('Matriks 3x3:')\n",
    "print(M)\n",
    "diag=[M[i][i]for i in [0, 1, 2]]\n",
    "print('bentuk diagonal matriks')\n",
    "print(diag)"
   ]
  },
  {
   "cell_type": "code",
   "execution_count": 1,
   "id": "4d6baa46-7ef0-4c11-a063-83e16c9feb35",
   "metadata": {},
   "outputs": [
    {
     "name": "stdout",
     "output_type": "stream",
     "text": [
      "elemen awal:\n",
      "['Jakarta', 'Bandung', 'Semarang']\n",
      "\n",
      "setelah append():\n",
      "['Jakarta', 'Bandung', 'Semarang', 'Surabaya']\n",
      "\n",
      "setelah insert():\n",
      "['Jakarta', 'Yogyakarta', 'Bandung', 'Semarang', 'Surabaya']\n",
      "n\\setelah extend():\n",
      "['Jakarta', 'Yogyakarta', 'Bandung', 'Semarang', 'Surabaya', 'Medan', 'Denpasar']\n"
     ]
    }
   ],
   "source": [
    "#menambah elemen ke dalam list\n",
    "#membuat list\n",
    "kota = ['Jakarta','Bandung','Semarang']\n",
    "print('elemen awal:')\n",
    "print(kota)\n",
    "#menggunakan metode append();untuk menambah elemen tunggal dibagian akhir list\n",
    "kota.append('Surabaya')\n",
    "print('\\nsetelah append():')\n",
    "print(kota)\n",
    "#menggunakan metode insert();untuk menambah elemen tunggal di indeks/posisi tertentu\n",
    "kota.insert(1,'Yogyakarta')\n",
    "print('\\nsetelah insert():')  \n",
    "print(kota)\n",
    "#menggunakan metode extend(); untuk menyambung atau menggabungkan suatu list dengan list lainnya\n",
    "kota.extend (['Medan', 'Denpasar'])\n",
    "print('n\\setelah extend():')\n",
    "print(kota)"
   ]
  },
  {
   "cell_type": "code",
   "execution_count": 7,
   "id": "5e17f3ea-46cb-49d6-ad4d-1fe700fc58e9",
   "metadata": {},
   "outputs": [
    {
     "name": "stdout",
     "output_type": "stream",
     "text": [
      "Sebelum diubah:\n",
      "['ayam', 'kucing', 'tikus']\n",
      "\n",
      "Setelah diubah:\n",
      "['ayam', 'ular', 'buaya']\n"
     ]
    }
   ],
   "source": [
    "# Mengubah Nilai Elemen di dalam List\n",
    "\n",
    "#membuat List\n",
    "\n",
    "hewan =['ayam', 'kucing', 'tikus']\n",
    "\n",
    "print(\"Sebelum diubah:\")\n",
    "\n",
    "print(hewan)\n",
    "\n",
    "#mengubah nilai elemen List\n",
    "\n",
    "hewan[1]='ular'\n",
    "\n",
    "hewan [-1]='buaya'\n",
    "\n",
    "#menampilkan hasil perubahan\n",
    "print('\\nSetelah diubah:')\n",
    "\n",
    "print(hewan)"
   ]
  },
  {
   "cell_type": "code",
   "execution_count": 10,
   "id": "921c7ae8-18b2-4163-9832-084500ffa7ea",
   "metadata": {},
   "outputs": [
    {
     "name": "stdout",
     "output_type": "stream",
     "text": [
      "Sebelum dihapus:\n",
      "['Indonesia', 'Singapura', 'Malaysia', 'Thailand', 'Vietnam', 'India']\n",
      "\n",
      "Setelah dihapus dgn metode remove():\n",
      "['Indonesia', 'Malaysia', 'Thailand', 'India']\n",
      "\n",
      "Setelah dihapus dgn metode del[]:\n",
      "['Indonesia', 'India']\n",
      "2\n",
      "0\n"
     ]
    }
   ],
   "source": [
    "#Menghapus Elemen dari List\n",
    "\n",
    "#membuat List\n",
    "\n",
    "negara= ['Indonesia', 'Singapura', 'Malaysia', 'Thailand', 'Vietnam', 'India']\n",
    "\n",
    "print('Sebelum dihapus:')\n",
    "\n",
    "print(negara)\n",
    "\n",
    "#menggunakan remove(); menghapus elemen List berdasarkan nilainya\n",
    "\n",
    "#bentuk umum: nama_variabel.remove()\n",
    "\n",
    "negara.remove('Singapura')\n",
    "\n",
    "negara.remove('Vietnam')\n",
    "\n",
    "#menampilkan hasil setelah dihapus dgn metode remove()\n",
    "\n",
    "print('\\nSetelah dihapus dgn metode remove():')\n",
    "\n",
    "print(negara)\n",
    "\n",
    "#menggunakan del[]; menghapus elemen List berdasarkan indeksnya\n",
    "\n",
    "#Bentuk umum: del nama variabel [indeks]\n",
    "\n",
    "del negara [2]\n",
    "\n",
    "del negara [-2]\n",
    "\n",
    "#menampilkan hasil setelah dihapus dengan metode del []\n",
    "\n",
    "print('\\nSetelah dihapus dgn metode del[]:')\n",
    "\n",
    "print(negara)\n",
    "\n",
    "#menggunakan metode clear(); menghapus seluruh elemen di dalam List\n",
    "\n",
    "print(len(negara))\n",
    "\n",
    "negara.clear()\n",
    "\n",
    "print(len(negara))"
   ]
  },
  {
   "cell_type": "code",
   "execution_count": 11,
   "id": "b94f6d72-b9ff-4d1a-a4a5-8e07a038f7c9",
   "metadata": {},
   "outputs": [
    {
     "name": "stdout",
     "output_type": "stream",
     "text": [
      "['pepaya', 'mangga', 'pisang', 'jambu']\n",
      "pepaya berada pada indeks ke-\n",
      "0\n",
      "jambu berada pada indeks ke-\n",
      "3\n"
     ]
    }
   ],
   "source": [
    "#Mencari Elemen di dalam List\n",
    "\n",
    "#menggunakan metode index()\n",
    "\n",
    "#bentuk umum: nama List.index(nilai)\n",
    "\n",
    "#membuat List\n",
    "\n",
    "buah= ['pepaya', 'mangga', 'pisang', 'jambu']\n",
    "\n",
    "print(buah)\n",
    "\n",
    "#mencari elemen List\n",
    "\n",
    "#bentuk umum: nama variabel.index('nilai atau elemen yg akan diindeks')\n",
    "\n",
    "print('pepaya berada pada indeks ke-')\n",
    "\n",
    "print(buah.index('pepaya'))\n",
    "\n",
    "print('jambu berada pada indeks ke-')\n",
    "\n",
    "print(buah.index('jambu'))"
   ]
  },
  {
   "cell_type": "code",
   "execution_count": 12,
   "id": "df467b7a-4fd6-489c-bde2-40ff07ce044c",
   "metadata": {},
   "outputs": [
    {
     "name": "stdout",
     "output_type": "stream",
     "text": [
      "Data list awal:\n",
      "['bb', 'aa', 'cc']\n",
      "Setelah di sort:\n",
      "['aa', 'bb', 'cc']\n",
      "Data list:\n",
      "['aa', 'bb', 'cc']\n",
      "Setelah di reverse:\n",
      "['cc', 'bb', 'aa']\n"
     ]
    }
   ],
   "source": [
    "#Menyusun data dalam List menggunakan metode sort() dan reverse()\n",
    "\n",
    "#membuat List\n",
    "\n",
    "L= ['bb', 'aa', 'cc']\n",
    "\n",
    "#menggunakan metode sort()\n",
    "\n",
    "print('Data list awal:')\n",
    "\n",
    "print(L)\n",
    "\n",
    "print('Setelah di sort:')\n",
    "\n",
    "L.sort()\n",
    "\n",
    "print(L)\n",
    "\n",
    "# menggunakan metode reverse()\n",
    "\n",
    "print('Data list:')\n",
    "\n",
    "print(L)\n",
    "\n",
    "print('Setelah di reverse:')\n",
    "\n",
    "L.reverse()\n",
    "\n",
    "print(L)"
   ]
  },
  {
   "cell_type": "code",
   "execution_count": 15,
   "id": "91517463-bfda-44ef-b9c4-ae666f9491c9",
   "metadata": {},
   "outputs": [
    {
     "name": "stdout",
     "output_type": "stream",
     "text": [
      "Data list:\n",
      "['Politeknik', 'Takumi', 'Hebat']\n",
      "Mengulang karakter pada item Takumi sebanyak 2 kali\n",
      "['TT', 'aa', 'kk', 'uu', 'mm', 'ii']\n",
      "['TTT', 'aaa', 'kkk', 'uuu', 'mmm', 'iii']\n"
     ]
    }
   ],
   "source": [
    "#Mengulang karakter dalam sebuah string\n",
    "\n",
    "#membuat List\n",
    "\n",
    "list= ['Politeknik', 'Takumi', 'Hebat']\n",
    "\n",
    "print('Data list:')\n",
    "\n",
    "print(list)\n",
    "\n",
    "print('Mengulang karakter pada item Takumi sebanyak 2 kali')\n",
    "\n",
    "doubles =[c * 2 for c in 'Takumi']\n",
    "\n",
    "print(doubles)\n",
    "\n",
    "doubles1= [c * 3 for c in 'Takumi']\n",
    "\n",
    "print(doubles1)"
   ]
  },
  {
   "cell_type": "code",
   "execution_count": null,
   "id": "4ac45552-0746-423d-a1b9-101996667538",
   "metadata": {},
   "outputs": [],
   "source": []
  }
 ],
 "metadata": {
  "kernelspec": {
   "display_name": "Python 3 (ipykernel)",
   "language": "python",
   "name": "python3"
  },
  "language_info": {
   "codemirror_mode": {
    "name": "ipython",
    "version": 3
   },
   "file_extension": ".py",
   "mimetype": "text/x-python",
   "name": "python",
   "nbconvert_exporter": "python",
   "pygments_lexer": "ipython3",
   "version": "3.11.5"
  }
 },
 "nbformat": 4,
 "nbformat_minor": 5
}
