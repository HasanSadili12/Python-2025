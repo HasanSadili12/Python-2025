{
 "cells": [
  {
   "cell_type": "code",
   "execution_count": 7,
   "id": "c3c073ad-3be8-402c-add7-6a2f97a107d2",
   "metadata": {},
   "outputs": [
    {
     "name": "stdout",
     "output_type": "stream",
     "text": [
      "Array 1: [1 2 3 4 5]\n",
      "Array 2: [5 4 3 2 1]\n",
      "Penjumlahan: [6 6 6 6 6]\n",
      "Pengurangan: [-4 -2  0  2  4]\n",
      "Perkalian: [5 8 9 8 5]\n",
      "Pembagian: [0.2 0.5 1.  2.  5. ]\n",
      "Mean Array 1: 3.0\n",
      "Median Array 1: 3.0\n",
      "Standar Deviasi Array 1: 1.4142135623730951\n"
     ]
    }
   ],
   "source": [
    "import numpy as np\n",
    "\n",
    "# Membuat array NumPy\n",
    "array1 = np.array([1, 2, 3, 4, 5])\n",
    "array2 = np.array([5, 4, 3, 2, 1])\n",
    "\n",
    "# Operasi Aritmatika\n",
    "penjumlahan = array1 + array2\n",
    "pengurangan = array1 - array2\n",
    "perkalian = array1 * array2\n",
    "pembagian = array1 / array2\n",
    "\n",
    "# Statistik dasar\n",
    "mean = np.mean(array1)\n",
    "median = np.median(array1)\n",
    "standar_deviasi = np.std(array1)\n",
    "\n",
    "# menampilkan hasil array\n",
    "print(\"Array 1:\", array1)\n",
    "print(\"Array 2:\", array2)\n",
    "print(\"Penjumlahan:\", penjumlahan)\n",
    "print(\"Pengurangan:\", pengurangan)\n",
    "print(\"Perkalian:\", perkalian)\n",
    "print(\"Pembagian:\", pembagian)\n",
    "print(\"Mean Array 1:\", mean)\n",
    "print(\"Median Array 1:\", median)\n",
    "print(\"Standar Deviasi Array 1:\", standar_deviasi)\n"
   ]
  },
  {
   "cell_type": "code",
   "execution_count": 5,
   "id": "61de7060-6c55-4c31-b4d5-b35378924612",
   "metadata": {},
   "outputs": [
    {
     "name": "stdout",
     "output_type": "stream",
     "text": [
      "[5 7 9]\n",
      "[-3 -3 -3]\n",
      "[ 4 10 18]\n",
      "[0.25 0.4  0.5 ]\n",
      "[1 4 9]\n"
     ]
    }
   ],
   "source": [
    "#Operasi Aritmatika\n",
    "x = np.array([1, 2, 3])\n",
    "y = np.array([4, 5, 6])\n",
    "\n",
    "print(x + y)   # Penjumlahan\n",
    "print(x - y)   # Pengurangan\n",
    "print(x * y)   # Perkalian\n",
    "print(x / y)   # Pembagian\n",
    "print(x ** 2)  # Pangkat\n"
   ]
  },
  {
   "cell_type": "code",
   "execution_count": 6,
   "id": "3452b2fa-7f3c-4979-899e-6e7b18d6a7bc",
   "metadata": {},
   "outputs": [
    {
     "name": "stdout",
     "output_type": "stream",
     "text": [
      "3.0\n",
      "3.0\n",
      "1.4142135623730951\n",
      "1\n",
      "5\n",
      "15\n"
     ]
    }
   ],
   "source": [
    "#Operasi Statistika\n",
    "data = np.array([1, 2, 3, 4, 5])\n",
    "\n",
    "print(np.mean(data))    # Rata-rata\n",
    "print(np.median(data))  # Median\n",
    "print(np.std(data))     # Standar deviasi\n",
    "print(np.min(data))     # Nilai minimum\n",
    "print(np.max(data))     # Nilai maksimum\n",
    "print(np.sum(data))     # Jumlah total\n"
   ]
  },
  {
   "cell_type": "code",
   "execution_count": 8,
   "id": "55248ac2-d874-4046-81e4-24eca563576e",
   "metadata": {},
   "outputs": [
    {
     "name": "stdout",
     "output_type": "stream",
     "text": [
      "[[19 22]\n",
      " [43 50]]\n",
      "[[1 3]\n",
      " [2 4]]\n",
      "-2.0000000000000004\n"
     ]
    }
   ],
   "source": [
    "#Operasi Matriks\n",
    "A = np.array([[1, 2], [3, 4]])\n",
    "B = np.array([[5, 6], [7, 8]])\n",
    "\n",
    "# Perkalian matriks\n",
    "print(np.dot(A, B))       # atau A @ B\n",
    "\n",
    "# Transpos\n",
    "print(A.T)\n",
    "\n",
    "# Determinan\n",
    "print(np.linalg.det(A))\n"
   ]
  },
  {
   "cell_type": "code",
   "execution_count": 10,
   "id": "66efe37f-0982-42dc-9b7e-3634b1588f27",
   "metadata": {},
   "outputs": [
    {
     "name": "stdout",
     "output_type": "stream",
     "text": [
      "[[0. 0. 0.]\n",
      " [0. 0. 0.]]\n",
      "[[1. 1.]\n",
      " [1. 1.]]\n",
      "[[1. 0. 0.]\n",
      " [0. 1. 0.]\n",
      " [0. 0. 1.]]\n",
      "[0 2 4 6 8]\n",
      "[0.   0.25 0.5  0.75 1.  ]\n"
     ]
    }
   ],
   "source": [
    "#Fungsi Khusus\n",
    "print(np.zeros((2, 3)))    # Array 2x3 berisi nol\n",
    "print(np.ones((2, 2)))     # Array 2x2 berisi satu\n",
    "print(np.eye(3))           # Matriks identitas 3x3\n",
    "print(np.arange(0, 10, 2)) # Deret: 0, 2, 4, ..., <10\n",
    "print(np.linspace(0, 1, 5))# 5 angka dari 0 sampai 1\n"
   ]
  },
  {
   "cell_type": "code",
   "execution_count": null,
   "id": "310bf564-3021-4261-be4a-132c7bd85781",
   "metadata": {},
   "outputs": [],
   "source": []
  }
 ],
 "metadata": {
  "kernelspec": {
   "display_name": "Python 3 (ipykernel)",
   "language": "python",
   "name": "python3"
  },
  "language_info": {
   "codemirror_mode": {
    "name": "ipython",
    "version": 3
   },
   "file_extension": ".py",
   "mimetype": "text/x-python",
   "name": "python",
   "nbconvert_exporter": "python",
   "pygments_lexer": "ipython3",
   "version": "3.11.5"
  }
 },
 "nbformat": 4,
 "nbformat_minor": 5
}
