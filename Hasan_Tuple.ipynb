{
 "cells": [
  {
   "cell_type": "code",
   "execution_count": 2,
   "id": "7c01cdc4-a361-401b-b22e-a703e157d4f4",
   "metadata": {},
   "outputs": [
    {
     "name": "stdout",
     "output_type": "stream",
     "text": [
      "<class 'tuple'>\n",
      "('Minggu', 'Senin', 'Selasa', 'Rabu', 'Kamis', 'Jumat', 'Sabtu')\n",
      "Minggu\n",
      "Selasa\n",
      "Jumat\n"
     ]
    }
   ],
   "source": [
    "# Type Tuple adalah List yang tidak dapat diubah\n",
    "\n",
    "#Tuple sebenarnya mirip dengan array konstan\n",
    "\n",
    "#Bentuk umum Tuple menggunakan tanda kurung: nama tuple (nilai1, nilai2, nilai3,...)\n",
    "\n",
    "#Contoh:\n",
    "\n",
    "hari =('Minggu', 'Senin', 'Selasa', 'Rabu', 'Kamis', 'Jumat', 'Sabtu')\n",
    "print(type(hari))\n",
    "#menampilkan hari\n",
    "\n",
    "print(hari)\n",
    "\n",
    "print(hari[0])\n",
    "\n",
    "print(hari[2])\n",
    "\n",
    "print(hari[5])"
   ]
  },
  {
   "cell_type": "code",
   "execution_count": 4,
   "id": "fc42638e-f5b2-4f6a-9cb9-d92a6e82a397",
   "metadata": {},
   "outputs": [
    {
     "name": "stdout",
     "output_type": "stream",
     "text": [
      "(1, 2, 3, 4)\n",
      "4\n",
      "(1, 2, 3, 4, 5, 6)\n",
      "1\n",
      "3\n",
      "1\n",
      "('Takumi', 4.0, [11, 22, 33])\n",
      "4.0\n",
      "22\n"
     ]
    }
   ],
   "source": [
    "#Contoh operasi pada Tuple\n",
    "\n",
    "T=(1, 2, 3, 4) # terdapat 4 item pada Tuple\n",
    "\n",
    "print(T) # menampilkan item pada Tuple\n",
    "\n",
    "print(len(T)) # menampilkan banyaknya item pada Tuple atau Length\n",
    "\n",
    "print(T+ (5, 6)) # Penggabungan\n",
    "\n",
    "print(T[0]) # menampilkan item pada indeks 8\n",
    "\n",
    "print(T.index(4)) # menampilkan item pada indeks 4\n",
    "\n",
    "print(T.count(4)) # menghitung item bernilai 4 pada tuple\n",
    "\n",
    "T1 =('Takumi', 4.0, [11, 22, 33])\n",
    "print(T1) # menampilkan item pada tuple T1\n",
    "\n",
    "print(T1[1])\n",
    "\n",
    "print(T1[2][1])"
   ]
  },
  {
   "cell_type": "code",
   "execution_count": 9,
   "id": "f06b83fc-9b1d-41d5-a87b-c5eb4c99e964",
   "metadata": {},
   "outputs": [
    {
     "name": "stdout",
     "output_type": "stream",
     "text": [
      "<class 'tuple'>\n",
      "('Minggu', 'Senin', 'Selasa', 'Rabu', 'Kamis', 'Jumat', 'Sabtu')\n",
      "Minggu\n",
      "Selasa\n",
      "Jumat\n"
     ]
    }
   ],
   "source": [
    "#Bentuk umum Tuple menggunakan tanpa tanda kurung: nama tuple nilail, nilai2, nilai3,..\n",
    "\n",
    "hari = 'Minggu', 'Senin', 'Selasa', 'Rabu', \\\n",
    "'Kamis', 'Jumat', 'Sabtu'\n",
    "\n",
    "print(type (hari))\n",
    "\n",
    "#menampilkan hari\n",
    "\n",
    "print(hari)\n",
    "\n",
    "print(hari[0])\n",
    "\n",
    "print(hari[2])\n",
    "\n",
    "print(hari[5])"
   ]
  },
  {
   "cell_type": "code",
   "execution_count": 12,
   "id": "26047946-6542-4595-b8e3-32319a545e1c",
   "metadata": {},
   "outputs": [
    {
     "name": "stdout",
     "output_type": "stream",
     "text": [
      "Data Tuple\n",
      "('Minggu', 'Senin', 'Selasa', 'Rabu', 'Kamis', 'Jumat', 'Sabtu')\n",
      "indeks positif:\n",
      "Minggu\n",
      "indeks negatif:\n",
      "Sabtu\n"
     ]
    }
   ],
   "source": [
    "#Tuple didefinisikan menggunakan tanda kurung(), bukan bracket[]\n",
    "\n",
    "#Tuple yang dibuat tanpa tanda kurung perlu menggunakan tanda backslash (1) untuk menyambung baris perintah pertama dan kedua\n",
    "\n",
    "#Beberapa hal yang perlu diperhatikan sengenai tuple\n",
    "\n",
    "hari= ('Minggu', 'Senin', 'Selasa', 'Rabu', 'Kamis', 'Jumat', 'Sabtu')\n",
    "\n",
    "print('Data Tuple')\n",
    "\n",
    "print(hari)\n",
    "\n",
    "#Tuple diindeks menggunakan bilangan dan diawali dart e\n",
    "\n",
    "print('indeks positif:')\n",
    "\n",
    "print(hari[0]) # indeks positif\n",
    "\n",
    "#Indeks negatif pada tuple dapat digunakan dan 1 selalu menunjukkan elemen terakhir\n",
    "\n",
    "print('indeks negatif:')\n",
    "\n",
    "print(hari[-1]) # indeks negatif"
   ]
  },
  {
   "cell_type": "code",
   "execution_count": 14,
   "id": "3c72bc2c-2f8b-4117-9f0d-95cc668af33f",
   "metadata": {},
   "outputs": [
    {
     "name": "stdout",
     "output_type": "stream",
     "text": [
      "Data Tuple awal\n",
      "('Minggu', 'Senin', 'Selasa', 'Rabu', 'Kamis', 'Jumat', 'Sabtu')\n"
     ]
    },
    {
     "ename": "AttributeError",
     "evalue": "'tuple' object has no attribute 'append'",
     "output_type": "error",
     "traceback": [
      "\u001b[1;31m---------------------------------------------------------------------------\u001b[0m",
      "\u001b[1;31mAttributeError\u001b[0m                            Traceback (most recent call last)",
      "Cell \u001b[1;32mIn[14], line 6\u001b[0m\n\u001b[0;32m      4\u001b[0m \u001b[38;5;28mprint\u001b[39m(\u001b[38;5;124m'\u001b[39m\u001b[38;5;124mData Tuple awal\u001b[39m\u001b[38;5;124m'\u001b[39m)\n\u001b[0;32m      5\u001b[0m \u001b[38;5;28mprint\u001b[39m(hari)\n\u001b[1;32m----> 6\u001b[0m \u001b[43mhari\u001b[49m\u001b[38;5;241;43m.\u001b[39;49m\u001b[43mappend\u001b[49m(\u001b[38;5;124m'\u001b[39m\u001b[38;5;124mHari Libur\u001b[39m\u001b[38;5;124m'\u001b[39m)\n\u001b[0;32m      7\u001b[0m \u001b[38;5;28mprint\u001b[39m(\u001b[38;5;124m'\u001b[39m\u001b[38;5;130;01m\\n\u001b[39;00m\u001b[38;5;124mSetelah append():\u001b[39m\u001b[38;5;124m'\u001b[39m)\n\u001b[0;32m      8\u001b[0m \u001b[38;5;28mprint\u001b[39m(hari)\n",
      "\u001b[1;31mAttributeError\u001b[0m: 'tuple' object has no attribute 'append'"
     ]
    }
   ],
   "source": [
    "# Tuple tidok memiliki metode oppend()\n",
    "\n",
    "hari =('Minggu', 'Senin', 'Selasa', 'Rabu', 'Kamis', 'Jumat', 'Sabtu')\n",
    "print('Data Tuple awal')\n",
    "print(hari)\n",
    "hari.append('Hari Libur')\n",
    "print('\\nSetelah append():')\n",
    "print(hari)"
   ]
  },
  {
   "cell_type": "code",
   "execution_count": 15,
   "id": "3d75e3e5-a694-41fe-8fa3-958436ce48ca",
   "metadata": {},
   "outputs": [
    {
     "name": "stdout",
     "output_type": "stream",
     "text": [
      "Data Tuple awal\n",
      "('Minggu', 'Senin', 'Selasa', 'Rabu', 'Kamis', 'Jumat', 'Sabtu')\n"
     ]
    },
    {
     "ename": "TypeError",
     "evalue": "'tuple' object does not support item assignment",
     "output_type": "error",
     "traceback": [
      "\u001b[1;31m---------------------------------------------------------------------------\u001b[0m",
      "\u001b[1;31mTypeError\u001b[0m                                 Traceback (most recent call last)",
      "Cell \u001b[1;32mIn[15], line 9\u001b[0m\n\u001b[0;32m      7\u001b[0m \u001b[38;5;28mprint\u001b[39m(hari)\n\u001b[0;32m      8\u001b[0m \u001b[38;5;66;03m# mengubah nilai elemen tuple\u001b[39;00m\n\u001b[1;32m----> 9\u001b[0m \u001b[43mhari\u001b[49m\u001b[43m[\u001b[49m\u001b[38;5;241;43m0\u001b[39;49m\u001b[43m]\u001b[49m\u001b[38;5;241m=\u001b[39m\u001b[38;5;124m'\u001b[39m\u001b[38;5;124mAhad\u001b[39m\u001b[38;5;124m'\u001b[39m\n\u001b[0;32m     10\u001b[0m \u001b[38;5;66;03m# menampilkan hasil perubahan\u001b[39;00m\n\u001b[0;32m     11\u001b[0m \u001b[38;5;28mprint\u001b[39m(\u001b[38;5;124m'\u001b[39m\u001b[38;5;130;01m\\n\u001b[39;00m\u001b[38;5;124mSetelah diubah:\u001b[39m\u001b[38;5;124m'\u001b[39m)\n",
      "\u001b[1;31mTypeError\u001b[0m: 'tuple' object does not support item assignment"
     ]
    }
   ],
   "source": [
    "# Elemen Tuple tidak dapat diubah\n",
    "\n",
    "# membuat tuple\n",
    "\n",
    "hari =('Minggu', 'Senin', 'Selasa', 'Rabu', 'Kamis', 'Jumat','Sabtu')\n",
    "print('Data Tuple awal')\n",
    "print(hari)\n",
    "# mengubah nilai elemen tuple\n",
    "hari[0]='Ahad'\n",
    "# menampilkan hasil perubahan\n",
    "print('\\nSetelah diubah:')\n",
    "print(hari)"
   ]
  },
  {
   "cell_type": "code",
   "execution_count": 17,
   "id": "586cd555-620c-4583-bb03-bf76df9054cc",
   "metadata": {},
   "outputs": [
    {
     "name": "stdout",
     "output_type": "stream",
     "text": [
      "Data Tuple awal\n",
      "('Minggu', 'Senin', 'Selasa', 'Rabu', 'Kamis', 'Jumat', 'Sabtu')\n"
     ]
    },
    {
     "ename": "AttributeError",
     "evalue": "'tuple' object has no attribute 'remove'",
     "output_type": "error",
     "traceback": [
      "\u001b[1;31m---------------------------------------------------------------------------\u001b[0m",
      "\u001b[1;31mAttributeError\u001b[0m                            Traceback (most recent call last)",
      "Cell \u001b[1;32mIn[17], line 13\u001b[0m\n\u001b[0;32m      9\u001b[0m \u001b[38;5;28mprint\u001b[39m(hari)\n\u001b[0;32m     11\u001b[0m \u001b[38;5;66;03m#menggunakan remove() pada Tuple\u001b[39;00m\n\u001b[1;32m---> 13\u001b[0m \u001b[43mhari\u001b[49m\u001b[38;5;241;43m.\u001b[39;49m\u001b[43mremove\u001b[49m(\u001b[38;5;124m'\u001b[39m\u001b[38;5;124mSenin\u001b[39m\u001b[38;5;124m'\u001b[39m)\n\u001b[0;32m     15\u001b[0m \u001b[38;5;66;03m#menampilkan hasil setelah dihapus dgn metode remove()\u001b[39;00m\n\u001b[0;32m     17\u001b[0m \u001b[38;5;28mprint\u001b[39m(\u001b[38;5;124m'\u001b[39m\u001b[38;5;130;01m\\n\u001b[39;00m\u001b[38;5;124mSetelah dihapus dgn metode remove():\u001b[39m\u001b[38;5;124m'\u001b[39m)\n",
      "\u001b[1;31mAttributeError\u001b[0m: 'tuple' object has no attribute 'remove'"
     ]
    }
   ],
   "source": [
    "#Tuple tidak memiliki metode remove()\n",
    "\n",
    "#membuat List\n",
    "\n",
    "hari =('Minggu', 'Senin', 'Selasa', 'Rabu', 'Kamis', 'Jumat', 'Sabtu')\n",
    "\n",
    "print('Data Tuple awal')\n",
    "\n",
    "print(hari)\n",
    "\n",
    "#menggunakan remove() pada Tuple\n",
    "\n",
    "hari.remove('Senin')\n",
    "\n",
    "#menampilkan hasil setelah dihapus dgn metode remove()\n",
    "\n",
    "print('\\nSetelah dihapus dgn metode remove():')\n",
    "\n",
    "print(hari)"
   ]
  },
  {
   "cell_type": "code",
   "execution_count": 19,
   "id": "3f22e7c8-48d9-4919-9b0c-e510c29b8c5b",
   "metadata": {},
   "outputs": [
    {
     "name": "stdout",
     "output_type": "stream",
     "text": [
      "Data Tuple\n",
      "('Minggu', 'Senin', 'Selasa', 'Rabu', 'Kamis', 'Jumat', 'Sabtu')\n",
      "Rabu\n",
      "3\n"
     ]
    }
   ],
   "source": [
    "#Tuple memiliki metode indeks()\n",
    "\n",
    "hari =('Minggu', 'Senin', 'Selasa', 'Rabu', 'Kamis', 'Jumat', 'Sabtu')\n",
    "\n",
    "print('Data Tuple')\n",
    "\n",
    "print(hari)\n",
    "\n",
    "print(hari[3])\n",
    "\n",
    "indeks=hari.index('Rabu')\n",
    "\n",
    "print(indeks)"
   ]
  },
  {
   "cell_type": "code",
   "execution_count": 21,
   "id": "9bbfeb4b-0d93-43a9-b47e-ab7b7d790321",
   "metadata": {},
   "outputs": [
    {
     "name": "stdout",
     "output_type": "stream",
     "text": [
      "Data Tuple\n",
      "('Minggu', 'Senin', 'Selasa', 'Rabu', 'Kamis', 'Jumat', 'Sabtu')\n",
      "Selasa pada item Tuple\n",
      "True\n",
      "Ahad pada item Tuple\n",
      "False\n"
     ]
    }
   ],
   "source": [
    "#Tuple menggunakan operator \"in\" digunakan untuk memeriksa apakah termasuk item pada tuple atau tidak\n",
    "hari= ('Minggu', 'Senin', 'Selasa', 'Rabu', 'Kamis', 'Jumat', 'Sabtu')\n",
    "print('Data Tuple')\n",
    "print(hari)\n",
    "print('Selasa pada item Tuple')\n",
    "print('Selasa' in hari)\n",
    "print('Ahad pada item Tuple')\n",
    "print('Ahad' in hari)"
   ]
  },
  {
   "cell_type": "code",
   "execution_count": 23,
   "id": "10e02f38-55e2-4cd7-b689-c3b70870cd5b",
   "metadata": {},
   "outputs": [
    {
     "name": "stdout",
     "output_type": "stream",
     "text": [
      "2025-10-02\n",
      "02 Oktober -\n"
     ]
    }
   ],
   "source": [
    "#membuat Kalender\n",
    "\n",
    "import datetime as dt\n",
    "\n",
    "#Tuple untuk nama bulan\n",
    "\n",
    "BULAN =('Januari', 'Februari', 'Maret', 'April', 'Mei', 'Juni', 'Juli', 'Agustus', 'September', 'Oktober', 'November', 'Desember')\n",
    "\n",
    "#Today akan berisi: 'YYYY-MM-DD'\n",
    "\n",
    "today = dt.date.isoformat(dt.date.today())\n",
    "\n",
    "yyyy = today [4]\n",
    "\n",
    "mm =today [5:7]\n",
    "\n",
    "dd = today [8:]\n",
    "\n",
    "print(today)\n",
    "\n",
    "print('%s %s %s' % (dd, BULAN[int(mm)-1], yyyy))\n",
    "\n",
    "#Penjelasan:\n",
    "#metode isoformat() dari kelas date yang tersimpan didalam modul datetime berfungsi untuk mengembalikan tanggal yang dilewatkan sehingga argumen dalam format 'YY-MM-DD'\n",
    "#Tanggal saat ini dapat diperoleh dengan memanggil metode today() dari kelas date.\n",
    "#pada kode diatas digunakan tuple untuk menyimpan nama-nama bulan\n",
    "\n"
   ]
  },
  {
   "cell_type": "code",
   "execution_count": null,
   "id": "8600a589-13e9-4184-b5e5-a46ff960ff9c",
   "metadata": {},
   "outputs": [],
   "source": []
  }
 ],
 "metadata": {
  "kernelspec": {
   "display_name": "Python 3 (ipykernel)",
   "language": "python",
   "name": "python3"
  },
  "language_info": {
   "codemirror_mode": {
    "name": "ipython",
    "version": 3
   },
   "file_extension": ".py",
   "mimetype": "text/x-python",
   "name": "python",
   "nbconvert_exporter": "python",
   "pygments_lexer": "ipython3",
   "version": "3.11.5"
  }
 },
 "nbformat": 4,
 "nbformat_minor": 5
}
