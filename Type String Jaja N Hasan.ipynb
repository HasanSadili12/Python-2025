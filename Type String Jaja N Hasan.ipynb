{
 "cells": [
  {
   "cell_type": "code",
   "execution_count": 5,
   "id": "77ca6559-0c1c-4cd4-9ef0-a06934d4644b",
   "metadata": {},
   "outputs": [
    {
     "name": "stdout",
     "output_type": "stream",
     "text": [
      "Halo Takumi\n",
      "Halo Takumi\n"
     ]
    }
   ],
   "source": [
    "#type string\n",
    "print('Halo Takumi') #membuat string dengan tanda petik tunggaL\n",
    "print(\"Halo Takumi\") #membuat string dengan tanda petik tunggaL"
   ]
  },
  {
   "cell_type": "code",
   "execution_count": 10,
   "id": "f812ff5a-e394-4dbc-a54a-173d48836299",
   "metadata": {},
   "outputs": [
    {
     "name": "stdout",
     "output_type": "stream",
     "text": [
      "Halo\n",
      "Takumi\n",
      "Halo Takumi\n"
     ]
    }
   ],
   "source": [
    "#variabel type string\n",
    "s1 = 'Halo' #variabel string 1\n",
    "s2 = 'Takumi' #variabel string 2\n",
    "#menampilkan  type string\n",
    "print(s1)\n",
    "print(s2)\n",
    "print(s1+' '+s2)"
   ]
  },
  {
   "cell_type": "code",
   "execution_count": 11,
   "id": "11fc6045-845a-4033-a271-7be9eb2a10a0",
   "metadata": {},
   "outputs": [
    {
     "name": "stdout",
     "output_type": "stream",
     "text": [
      "False\n",
      "False\n",
      "True\n",
      "True\n",
      "True\n"
     ]
    }
   ],
   "source": [
    "#Membandingkan string\n",
    "s1 = 'Halo' #variabel string 1\n",
    "s2 = 'Takumi' #variabel string 2\n",
    "print (s1>s2)\n",
    "print(s1>=s2)\n",
    "print(s1<s2)\n",
    "print(s1<=s2)\n",
    "print(s1!=s2)"
   ]
  },
  {
   "cell_type": "code",
   "execution_count": 13,
   "id": "15b2034a-2633-475a-a934-17cdcc8e163f",
   "metadata": {},
   "outputs": [
    {
     "name": "stdout",
     "output_type": "stream",
     "text": [
      "T\n",
      "k\n",
      "Ta\n",
      "Taku\n",
      "umi\n",
      "mi\n",
      "Tak\n",
      "Takumi oke\n",
      "TakumiTakumi\n"
     ]
    }
   ],
   "source": [
    "#mengambil substring ; menggunaklan tanda bracket[]\n",
    "s = 'Takumi'\n",
    "print(s[0]) #menampilkan sub string karakter pertama\n",
    "print (s[-4]) #Menampilkan substring karakter ke 4 dari kanan\n",
    "print(s[:2]) #Menampilkan 2 karakter di awal\n",
    "print (s[:-2]) #Menghilangkan 2 karakter terakhir \n",
    "print (s[3:]) #Menampilkan 3 karakter terakhir\n",
    "print(s[-2:]) #menampilkan 2 karakter terakhir\n",
    "print(s[0:3]) #menampilkan karakter dari 0\n",
    "len(s) #Menunjukan jumlahj karakter \n",
    "print(s+' '+ 'oke') #Penggabungan \n",
    "print(s*2)#pengulangan"
   ]
  },
  {
   "cell_type": "code",
   "execution_count": 14,
   "id": "ad5c2252-0652-4d5b-9d36-c92712022739",
   "metadata": {},
   "outputs": [
    {
     "data": {
      "text/plain": [
       "1"
      ]
     },
     "execution_count": 14,
     "metadata": {},
     "output_type": "execute_result"
    }
   ],
   "source": [
    "#Menemukan Offset substring\n",
    "s = 'Takumi'\n",
    "s.find('aku')"
   ]
  },
  {
   "cell_type": "code",
   "execution_count": 15,
   "id": "2458ec13-53a3-4b45-b250-b0a45cba18ce",
   "metadata": {},
   "outputs": [
    {
     "data": {
      "text/plain": [
       "'TAKUmi'"
      ]
     },
     "execution_count": 15,
     "metadata": {},
     "output_type": "execute_result"
    }
   ],
   "source": [
    "#Mengganti kemunculan suatu substring dengan substring lainnya\n",
    "s = 'Takumi'\n",
    "s.replace('aku','AKU')\n"
   ]
  },
  {
   "cell_type": "code",
   "execution_count": 17,
   "id": "3fc1367e-e926-4e72-a396-9cb5d6590909",
   "metadata": {},
   "outputs": [
    {
     "data": {
      "text/plain": [
       "'TAKUMI'"
      ]
     },
     "execution_count": 17,
     "metadata": {},
     "output_type": "execute_result"
    }
   ],
   "source": [
    "#Mengkonversi huruf besar dan kecil\n",
    "s = 'Takumi'\n",
    "s.upper()"
   ]
  },
  {
   "cell_type": "code",
   "execution_count": null,
   "id": "44ac6f80-02ba-4bc5-95e0-11d129d2ca32",
   "metadata": {},
   "outputs": [],
   "source": []
  }
 ],
 "metadata": {
  "kernelspec": {
   "display_name": "Python 3 (ipykernel)",
   "language": "python",
   "name": "python3"
  },
  "language_info": {
   "codemirror_mode": {
    "name": "ipython",
    "version": 3
   },
   "file_extension": ".py",
   "mimetype": "text/x-python",
   "name": "python",
   "nbconvert_exporter": "python",
   "pygments_lexer": "ipython3",
   "version": "3.11.5"
  }
 },
 "nbformat": 4,
 "nbformat_minor": 5
}
