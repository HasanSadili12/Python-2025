{
 "cells": [
  {
   "cell_type": "code",
   "execution_count": 5,
   "id": "f1cddcc1-9f7e-4e35-ac26-f7715a6958a6",
   "metadata": {},
   "outputs": [
    {
     "ename": "IndentationError",
     "evalue": "expected an indented block after function definition on line 2 (328633619.py, line 3)",
     "output_type": "error",
     "traceback": [
      "\u001b[1;36m  Cell \u001b[1;32mIn[5], line 3\u001b[1;36m\u001b[0m\n\u001b[1;33m    vokal = \"aeiouAEIOU\"\u001b[0m\n\u001b[1;37m    ^\u001b[0m\n\u001b[1;31mIndentationError\u001b[0m\u001b[1;31m:\u001b[0m expected an indented block after function definition on line 2\n"
     ]
    }
   ],
   "source": [
    "#program menghitung jumlah huruf vokal\n",
    "def hitung_vokal(teks):\n",
    "vokal = \"aeiouAEIOU\"\n",
    "jumlah = 0\n",
    "for huruf in teks :\n",
    "    if huruf in vokal:\n",
    "        jumlah += 1\n",
    "        return jumlah\n",
    "        teks = input(\" \")\n",
    "        print(\"jumlah huruf vokal:\", hitung_vokal(teks))"
   ]
  },
  {
   "cell_type": "code",
   "execution_count": 7,
   "id": "6516d857-64ae-4419-8cf7-a0efb94e7a53",
   "metadata": {},
   "outputs": [
    {
     "name": "stdin",
     "output_type": "stream",
     "text": [
      "Masukkan kata pertama:  kamar\n",
      "Masukkan kata kedua:  ramak\n"
     ]
    },
    {
     "name": "stdout",
     "output_type": "stream",
     "text": [
      "kamar dan ramak adalah anagram.\n"
     ]
    }
   ],
   "source": [
    "# Program mengecek apakah dua kata merupakan anagram\n",
    "def cek_anagram(kata1, kata2):\n",
    "    return sorted(kata1) == sorted(kata2)\n",
    "\n",
    "kata1 = input(\"Masukkan kata pertama: \")\n",
    "kata2 = input(\"Masukkan kata kedua: \")\n",
    "\n",
    "if cek_anagram(kata1, kata2):\n",
    "    print(f\"{kata1} dan {kata2} adalah anagram.\")\n",
    "else:\n",
    "    print(f\"{kata1} dan {kata2} bukan anagram.\")"
   ]
  },
  {
   "cell_type": "code",
   "execution_count": 8,
   "id": "6669bceb-7acd-454a-b069-3c9dfdb578a2",
   "metadata": {},
   "outputs": [
    {
     "name": "stdin",
     "output_type": "stream",
     "text": [
      "  auo\n"
     ]
    },
    {
     "name": "stdout",
     "output_type": "stream",
     "text": [
      "Jumlah huruf vokal: 3\n"
     ]
    }
   ],
   "source": [
    "# Program menghitung jumlah huruf vokal\n",
    "def hitung_vokal(teks):\n",
    "    vokal = \"aeiouAEIOU\"\n",
    "    jumlah = 0\n",
    "    for huruf in teks:\n",
    "        if huruf in vokal:\n",
    "            jumlah += 1\n",
    "    return jumlah\n",
    "\n",
    "teks = input(\" \")\n",
    "print(\"Jumlah huruf vokal:\", hitung_vokal(teks))\n"
   ]
  },
  {
   "cell_type": "code",
   "execution_count": 10,
   "id": "3792a30f-d81d-4317-b6c0-9f8db35f2b1c",
   "metadata": {},
   "outputs": [
    {
     "name": "stdin",
     "output_type": "stream",
     "text": [
      "Tulis Sebuah Kalimat:  Aku sayang Kamu istriku Sri Dewi Utami :* wkwkwk\n"
     ]
    },
    {
     "name": "stdout",
     "output_type": "stream",
     "text": [
      "Berikut Urutan Kata-Kata:\n",
      ":*\n",
      "Aku\n",
      "Dewi\n",
      "Kamu\n",
      "Sri\n",
      "Utami\n",
      "istriku\n",
      "sayang\n",
      "wkwkwk\n"
     ]
    }
   ],
   "source": [
    "# Menginput Kalimat\n",
    "kalimat = input(\"Tulis Sebuah Kalimat: \")\n",
    " \n",
    "# Memecah Kalimat menjadi Kata-Kata\n",
    "kata = kalimat.split()\n",
    " \n",
    "# Mengurutkan Kata-Kata\n",
    "kata.sort()\n",
    " \n",
    "# Menampilkan Kata-Kata yang Telah Diurutkan\n",
    "print(\"Berikut Urutan Kata-Kata:\")\n",
    "for urut in kata:\n",
    "   print(urut)"
   ]
  },
  {
   "cell_type": "code",
   "execution_count": 11,
   "id": "3edef51e-87fe-4172-a53c-550551088c2b",
   "metadata": {},
   "outputs": [
    {
     "name": "stdin",
     "output_type": "stream",
     "text": [
      "Masukkan sebuah angka:  64\n"
     ]
    },
    {
     "name": "stdout",
     "output_type": "stream",
     "text": [
      "Akar kuadrat dari 64.0 adalah 8.000\n"
     ]
    }
   ],
   "source": [
    "# Menghitung akar kuadrat\n",
    "import math\n",
    "\n",
    "angka = float(input(\"Masukkan sebuah angka: \"))\n",
    "akar_kuadrat = math.sqrt(angka)\n",
    "print(f\"Akar kuadrat dari {angka} adalah {akar_kuadrat:.3f}\")"
   ]
  },
  {
   "cell_type": "code",
   "execution_count": 12,
   "id": "258ab3da-1bc7-408d-a1e3-a2a66a3d92ea",
   "metadata": {},
   "outputs": [
    {
     "name": "stdin",
     "output_type": "stream",
     "text": [
      "Tulis alas segitiga:  15\n",
      "Tulis tinggi segitiga:  5\n"
     ]
    },
    {
     "name": "stdout",
     "output_type": "stream",
     "text": [
      "Luas segitiga adalah 37.50\n"
     ]
    }
   ],
   "source": [
    "# Program menghitung luas segitiga\n",
    "alas = float(input(\"Tulis alas segitiga: \"))\n",
    "tinggi = float(input(\"Tulis tinggi segitiga: \"))\n",
    "\n",
    "luas = (alas * tinggi) / 2\n",
    "print(f\"Luas segitiga adalah {luas:.2f}\")"
   ]
  },
  {
   "cell_type": "code",
   "execution_count": 13,
   "id": "b8f7c58c-c0f2-4683-922f-d94af67d9176",
   "metadata": {},
   "outputs": [
    {
     "name": "stdin",
     "output_type": "stream",
     "text": [
      "Masukkan angka untuk tabel perkalian:  8\n"
     ]
    },
    {
     "name": "stdout",
     "output_type": "stream",
     "text": [
      "8 x 1 = 8\n",
      "8 x 2 = 16\n",
      "8 x 3 = 24\n",
      "8 x 4 = 32\n",
      "8 x 5 = 40\n",
      "8 x 6 = 48\n",
      "8 x 7 = 56\n",
      "8 x 8 = 64\n",
      "8 x 9 = 72\n",
      "8 x 10 = 80\n"
     ]
    }
   ],
   "source": [
    "# Program menampilkan tabel perkalian\n",
    "angka = int(input(\"Masukkan angka untuk tabel perkalian: \"))\n",
    "\n",
    "for i in range(1, 11):\n",
    "    print(f\"{angka} x {i} = {angka * i}\")"
   ]
  },
  {
   "cell_type": "code",
   "execution_count": null,
   "id": "95fd4d80-abff-411e-9858-831d61cba627",
   "metadata": {},
   "outputs": [],
   "source": []
  }
 ],
 "metadata": {
  "kernelspec": {
   "display_name": "Python 3 (ipykernel)",
   "language": "python",
   "name": "python3"
  },
  "language_info": {
   "codemirror_mode": {
    "name": "ipython",
    "version": 3
   },
   "file_extension": ".py",
   "mimetype": "text/x-python",
   "name": "python",
   "nbconvert_exporter": "python",
   "pygments_lexer": "ipython3",
   "version": "3.11.5"
  }
 },
 "nbformat": 4,
 "nbformat_minor": 5
}
